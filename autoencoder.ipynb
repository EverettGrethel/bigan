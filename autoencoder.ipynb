{
 "cells": [
  {
   "cell_type": "code",
   "execution_count": 1,
   "id": "9c44b4cc",
   "metadata": {
    "tags": []
   },
   "outputs": [],
   "source": [
    "import os\n",
    "import torch\n",
    "import torchvision\n",
    "from torch.utils.data import Dataset, DataLoader\n",
    "from torchvision import datasets, models, transforms\n",
    "import torch.nn as nn\n",
    "import torch.optim as optim\n",
    "import matplotlib.pyplot as plt\n",
    "import numpy as np\n",
    "from sklearn.decomposition import PCA"
   ]
  },
  {
   "cell_type": "code",
   "execution_count": 2,
   "id": "495aef96-9947-4968-a7ac-177f81a83dd0",
   "metadata": {
    "tags": []
   },
   "outputs": [],
   "source": [
    "import sys\n",
    "sys.path.append('..\\..\\early-stopping-pytorch')\n",
    "from pytorchtools import EarlyStopping\n",
    "\n",
    "os.environ['CUDA_LAUNCH_BLOCKING'] = '1'\n",
    "\n",
    "# Adjust printing view dimensions\n",
    "np.set_printoptions(threshold=sys.maxsize, linewidth=300)\n",
    "#torch.set_printoptions(threshold=sys.maxsize, linewidth=300, profile='full')"
   ]
  },
  {
   "cell_type": "code",
   "execution_count": 3,
   "id": "70724590",
   "metadata": {
    "tags": []
   },
   "outputs": [],
   "source": [
    "class AutoEncoder(nn.Module):\n",
    "    def __init__(self, **kwargs):\n",
    "        super().__init__()\n",
    "        self.input_shape = kwargs[\"input_shape\"]\n",
    "        # number of hidden units in first hidden layer\n",
    "        self.n_units = kwargs[\"n_units\"]\n",
    "        self.latent_units = kwargs[\"latent_units\"]\n",
    "        \n",
    "        self.encoder = torch.nn.Sequential(\n",
    "            # Linear(): Initiate a linear function theta*x + b\n",
    "            nn.Linear(in_features=self.input_shape, out_features=self.n_units),\n",
    "            torch.nn.ReLU(),\n",
    "            nn.Linear(in_features=self.n_units, out_features=self.latent_units),\n",
    "            torch.nn.ReLU()\n",
    "        )\n",
    "        self.decoder = torch.nn.Sequential(\n",
    "            nn.Linear(in_features=self.latent_units, out_features=self.n_units),\n",
    "            torch.nn.ReLU(),\n",
    "            nn.Linear(in_features=self.n_units, out_features=self.input_shape),\n",
    "            torch.nn.Sigmoid()\n",
    "        )\n",
    "    \n",
    "    # X denotes features\n",
    "    def forward(self, X):\n",
    "        encode = self.encoder(X)\n",
    "        decode = self.decoder(encode)\n",
    "        return decode"
   ]
  },
  {
   "cell_type": "code",
   "execution_count": 4,
   "id": "5d6b7c31-6d35-4067-ba20-89b11ac6b70f",
   "metadata": {},
   "outputs": [],
   "source": [
    "class SparseAutoEncoder(nn.Module):\n",
    "    def __init__(self, **kwargs):\n",
    "        super().__init__()\n",
    "        self.input_shape = kwargs[\"input_shape\"]\n",
    "        # number of hidden units in first hidden layer\n",
    "        self.n_units = kwargs[\"n_units\"]\n",
    "        # number of hidden units in latent space\n",
    "        self.latent_units = kwargs[\"latent_units\"]\n",
    "        \n",
    "        self.encoder = torch.nn.Sequential(\n",
    "            nn.Linear(in_features=self.input_shape, out_features=self.n_units),\n",
    "            torch.nn.ReLU()\n",
    "        )\n",
    "        # Bottleneck is actually in the encoder, but it must be isolated in order to calculate sparsity\n",
    "        self.bottleneck = torch.nn.Sequential(\n",
    "            nn.Linear(in_features=self.n_units, out_features=self.latent_units),\n",
    "            torch.nn.ReLU()\n",
    "        )\n",
    "        self.decoder = torch.nn.Sequential(\n",
    "            nn.Linear(in_features=self.latent_units, out_features=self.n_units),\n",
    "            torch.nn.ReLU(),\n",
    "            nn.Linear(in_features=self.n_units, out_features=self.input_shape),\n",
    "            torch.nn.Sigmoid()\n",
    "        )\n",
    "    \n",
    "    # X denotes features\n",
    "    def forward(self, X):\n",
    "        encoded = self.encoder(X)\n",
    "        bottleneck = self.bottleneck(encoded)\n",
    "        decoded = self.decoder(bottleneck)\n",
    "        return bottleneck, decoded"
   ]
  },
  {
   "cell_type": "code",
   "execution_count": 5,
   "id": "dca68d50-8eeb-4d3a-8150-f5508bdf9d4c",
   "metadata": {
    "tags": []
   },
   "outputs": [
    {
     "name": "stdout",
     "output_type": "stream",
     "text": [
      "Done loading data.\n"
     ]
    }
   ],
   "source": [
    "# 10,000 samples, 30x30 matrices\n",
    "is_pca = False\n",
    "data = np.ndarray(shape=(10000,30,30))\n",
    "n_features = data.shape[1] * data.shape[2]\n",
    "\n",
    "\n",
    "for i in range(10000):\n",
    "    path = f'data/jet_matrices/sample{i+1}.dat'\n",
    "    sample = np.loadtxt(path, unpack = False)\n",
    "    data[i] = sample\n",
    "\n",
    "print(\"Done loading data.\")"
   ]
  },
  {
   "cell_type": "code",
   "execution_count": 6,
   "id": "8891f7fc-06ec-4a54-9e54-3189e67da3b9",
   "metadata": {
    "tags": []
   },
   "outputs": [],
   "source": [
    "# Flatten data and convert to Torch Tensor\n",
    "\n",
    "# 10,000 samples, 900 features\n",
    "X = np.ndarray(shape=(10000, n_features))\n",
    "for i, sample in enumerate(data):\n",
    "    flat = sample.flatten()\n",
    "    X[i] = flat\n",
    "    #print(X[i])\n",
    "\n",
    "# Convert from numpy array to Pytorch tensor\n",
    "X = torch.from_numpy(X)\n",
    "# Convert all scalars to floats. May affect training behavior (ie. reconstructions made of non-binary scalar values)\n",
    "X = X.float()"
   ]
  },
  {
   "cell_type": "markdown",
   "id": "d40435a6-d2d2-4a67-8b9d-a4ceeabda9f9",
   "metadata": {},
   "source": [
    "# PCA"
   ]
  },
  {
   "cell_type": "code",
   "execution_count": null,
   "id": "38354ca1-cb26-48dc-ad4b-73c616477bde",
   "metadata": {
    "tags": []
   },
   "outputs": [],
   "source": [
    "def de_correlate_data(X):\n",
    "    X_pert = np.copy(X)\n",
    "    i = 0\n",
    "    for col in X.T:\n",
    "        #print(col)\n",
    "        X_pert[:,i] = np.random.permutation(col)\n",
    "        #print(X_pert[:,i])\n",
    "        i += 1\n",
    "        \n",
    "    return X_pert\n",
    "\n",
    "# # function demo\n",
    "# z = np.array([[1,2,3],[4,5,6],[7,8,9]])\n",
    "# #z = np.array([[0,1,0],[1,0,1],[1,1,1]])\n",
    "# print(z)\n",
    "# X_pert = de_correlate_data(z)\n",
    "# print(X_pert)"
   ]
  },
  {
   "cell_type": "code",
   "execution_count": null,
   "id": "f1d2f802-706f-4e61-b59a-1b5a7c5c11c8",
   "metadata": {
    "tags": []
   },
   "outputs": [],
   "source": [
    "# Plot cumulative explained variance w.r.t. number of components\n",
    "\n",
    "def pca_run(X):\n",
    "    pca = PCA(n_components=0.95).fit(X)\n",
    "\n",
    "    #% matplotlib inline\n",
    "    import matplotlib.pyplot as plt\n",
    "    plt.rcParams[\"figure.figsize\"] = (12,6)\n",
    "\n",
    "    fig, ax = plt.subplots()\n",
    "    y = np.cumsum(pca.explained_variance_ratio_)\n",
    "    # n_components = number of components needed to reach cum. variance threshold\n",
    "    n_components = y.size\n",
    "    xi = np.arange(1, n_components+1, step=1)\n",
    "\n",
    "    plt.ylim(0.0,1.1)\n",
    "    plt.plot(xi, y, marker='o', linestyle='--', color='b')\n",
    "\n",
    "    plt.xlabel('Number of Components')\n",
    "    #change from 0-based array index to 1-based human-readable label\n",
    "    plt.xticks(np.arange(0, n_components+1, step=1))\n",
    "    plt.ylabel('Cumulative variance (%)')\n",
    "    plt.title('The Number of Components Needed to Explain Variance')\n",
    "\n",
    "    plt.axhline(y=0.95, color='r', linestyle='-')\n",
    "    plt.axhline(y=0.8, color='g', linestyle='-')\n",
    "    plt.axhline(y=0.9, color='b', linestyle='-')\n",
    "    plt.text(0, 0.915, '95% cut-off threshold', color = 'red', fontsize=13)\n",
    "    plt.text(24, 0.85, '90% cut-off threshold', color = 'blue', fontsize=13)\n",
    "    plt.text(12, 0.75, '80% cut-off threshold', color = 'green', fontsize=13)\n",
    "\n",
    "    ax.grid(axis='x')\n",
    "    plt.show()\n",
    "\n",
    "# Run with original data.\n",
    "pca_run(X.numpy())\n",
    "\n",
    "# Run with permutated data.\n",
    "# De-correlates features, so performing worse than original data indicates\n",
    "# existence of correlation in the original data's features.\n",
    "X_pert = de_correlate_data(X)\n",
    "pca_run(X_pert)"
   ]
  },
  {
   "cell_type": "code",
   "execution_count": null,
   "id": "7c75306b-57ab-407a-bb35-d7f160e75c5b",
   "metadata": {},
   "outputs": [],
   "source": [
    "plt.rcParams[\"figure.figsize\"] = (12,6)\n",
    "fig, ax = plt.subplots()\n",
    "plt.bar(xi, pca.explained_variance_ratio_, width=0.4)\n",
    "plt.ylabel(\"Percent of Total Variance\")\n",
    "plt.xlabel(\"Principal Component\")\n",
    "plt.title(\"Significance of Each Principal Component Towards Variance \")"
   ]
  },
  {
   "cell_type": "code",
   "execution_count": null,
   "id": "96362bf4-42d8-49b8-a6fa-aeb5a8359ee4",
   "metadata": {
    "tags": []
   },
   "outputs": [],
   "source": [
    "# PCA\n",
    "\n",
    "# Toggle to indicate to training that PCA is in use\n",
    "is_pca = True\n",
    "# -- DEFINE NUMBER OF COMPONENTS HERE --\n",
    "n_components = 5\n",
    "\n",
    "pca = PCA(n_components=n_components).fit(X.numpy())\n",
    "\n",
    "print(X)\n",
    "# If fails, re-run \"Flatten data...\" cell\n",
    "X_pca = pca.fit_transform(X)\n",
    "X_pca = torch.from_numpy(X_pca)\n",
    "# Convert all scalars to floats. May affect training behavior (ie. reconstructions made of non-binary scalar values)\n",
    "X_pca = X_pca.float()\n",
    "# Replace former n_features with number of components\n",
    "n_features = X_pca.shape[1]"
   ]
  },
  {
   "cell_type": "markdown",
   "id": "8875d4ed-f4c5-4bf5-878e-ccb76d4645d7",
   "metadata": {},
   "source": [
    "# Training & Validation"
   ]
  },
  {
   "cell_type": "code",
   "execution_count": 7,
   "id": "cc40b83a-dcd0-457f-9b37-0261177fb051",
   "metadata": {
    "tags": []
   },
   "outputs": [],
   "source": [
    "# Hyperparameters\n",
    "\n",
    "# Changes X based on whether PCA was used\n",
    "if is_pca:\n",
    "    X_2 = X_pca\n",
    "else:\n",
    "    X_2 = X\n",
    "\n",
    "batch_size = 32\n",
    "# 70/15/15 split\n",
    "train_size = int(0.7 * len(X_2))\n",
    "val_size = len(X_2) - train_size\n",
    "test_size = val_size // 2"
   ]
  },
  {
   "cell_type": "code",
   "execution_count": 8,
   "id": "6d9f72fd-043f-4203-ba7e-3098c76b6a6e",
   "metadata": {
    "tags": []
   },
   "outputs": [
    {
     "name": "stdout",
     "output_type": "stream",
     "text": [
      "cuda\n"
     ]
    }
   ],
   "source": [
    "# Initate data loaders\n",
    "\n",
    "train, val = torch.utils.data.random_split(X_2, [train_size, val_size])\n",
    "val, test = torch.utils.data.random_split(val, [test_size, test_size])\n",
    "\n",
    "train_loader = torch.utils.data.DataLoader(\n",
    "    train, batch_size=batch_size, shuffle=True, num_workers=0, pin_memory=True\n",
    ")\n",
    "\n",
    "val_loader = torch.utils.data.DataLoader(\n",
    "    val, batch_size=batch_size, shuffle=False, num_workers=0, pin_memory=True\n",
    ")\n",
    "\n",
    "test_loader = torch.utils.data.DataLoader(\n",
    "    test, batch_size=batch_size, shuffle=False, num_workers=0, pin_memory=True\n",
    ")\n",
    "\n",
    "# Use gpu if available\n",
    "device = torch.device(\"cuda\" if torch.cuda.is_available() else \"cpu\")\n",
    "print(device)"
   ]
  },
  {
   "cell_type": "code",
   "execution_count": 9,
   "id": "e006349d",
   "metadata": {
    "tags": []
   },
   "outputs": [],
   "source": [
    "#############################    \n",
    "#   TRAINING & VALIDATION   #\n",
    "#############################\n",
    "\n",
    "class ExceededRangeError(Exception):\n",
    "    \"\"\"Raised when values outside range [0.0, 1.0] are found in BCE loss\"\"\"\n",
    "    pass\n",
    "\n",
    "class TrainedModel():\n",
    "    def __init__(self, model, avg_train_loss, avg_val_loss, epochs):\n",
    "        self.model = model\n",
    "        self.avg_train_loss = avg_train_loss\n",
    "        self.avg_val_loss = avg_val_loss\n",
    "        self.epochs = epochs\n",
    "\n",
    "# Training and Validation are combined in order to allow for early stopping\n",
    "def train_validate(model, epochs, lr, is_early_stopping=False, is_pca=False, is_sparse=False, patience=None, beta=None, rho=None):\n",
    "    # Define Adam optimizer\n",
    "    optimizer = optim.Adam(model.parameters(), lr=lr)\n",
    "\n",
    "    # Binary Cross Entropy Loss\n",
    "    criterion = nn.BCELoss()\n",
    "    # See pytorch docs on why reduction is batch mean.\n",
    "    kl_divergence = nn.KLDivLoss(reduction=\"batchmean\", log_target=False)\n",
    "\n",
    "    # Reset model state if previously trained\n",
    "    torch.manual_seed(1)\n",
    "    def weights_init(m):\n",
    "        if isinstance(m, torch.nn.Linear):\n",
    "            nn.init.xavier_uniform_(m.weight.data)\n",
    "            print(\"existing instance\")\n",
    "                                 \n",
    "    model.apply(weights_init)\n",
    "\n",
    "    # Toggle Early Stopping (if using).\n",
    "    if is_early_stopping:\n",
    "        early_stopping = EarlyStopping(patience=patience, verbose=True)\n",
    "        print(\"Using Early Stopping\")\n",
    "    if is_pca:\n",
    "        print(\"Using PCA\")\n",
    "\n",
    "    print(\"Training...\")\n",
    "    for epoch in range(epochs):\n",
    "        \n",
    "        #############################    \n",
    "        #          TRAINING         #\n",
    "        #############################\n",
    "        \n",
    "        loss = 0\n",
    "        # Prepare model for training\n",
    "        model.eval()\n",
    "        train_losses = []\n",
    "        for i, batch in enumerate(train_loader, 0):\n",
    "\n",
    "            # reshape mini-batch data from [batch_size, 30, 30] to [batch_size, 900]\n",
    "            # load it to the active device\n",
    "            batch = batch\n",
    "            batch = batch.view(-1, n_features).to(device)\n",
    "\n",
    "            # reset the gradients back to zero\n",
    "            # PyTorch accumulates gradients on subsequent backward passes\n",
    "            optimizer.zero_grad()\n",
    "\n",
    "            # compute reconstructions\n",
    "            # also retrieve bottleneck weights for computing sparsity penalty\n",
    "            bottleneck, decoded = model(batch)\n",
    "\n",
    "            # Exception handler for when BCE loss has values outside range [0.0, 1.0]\n",
    "            try:\n",
    "                # compute training reconstruction loss\n",
    "                train_loss = criterion(decoded, batch)\n",
    "            except RuntimeError:\n",
    "                print('Runtime Error during loss calculation. BCE loss has values outside range [0.0, 1.0]')\n",
    "                for k, sample in enumerate(decoded):\n",
    "                    print(k)\n",
    "                    print(sample)\n",
    "                    \n",
    "            # add sparsity penalty to loss, if toggled\n",
    "            if is_sparse:\n",
    "                rho_hat = torch.sum(bottleneck, dim=0, keepdim=True)\n",
    "                # the input KL Divergence must be in log space and in a distribution, hence log & softmax.\n",
    "                \n",
    "                # rho_hat = torch.nn.functional.log_softmax(rho_hat, dim=1)\n",
    "                rho_hat = torch.nn.functional.softmax(rho_hat, dim=1)\n",
    "                rho_hat = torch.log(rho_hat)\n",
    "                \n",
    "                # Converting target to softmax in our case is unecessary because rho is the same for all values,\n",
    "                # thus no change occurs. However, we do need to convert target to log-space due to a PyTorch bug.\n",
    "                \n",
    "                # rho_soft = torch.nn.functional.log_softmax(rho, dim=1)\n",
    "                rho_soft = torch.nn.functional.softmax(rho, dim=1)\n",
    "                #rho_soft = torch.log(rho_soft)\n",
    "                \n",
    "                s = kl_divergence(rho_hat, rho_soft)\n",
    "                \n",
    "                # Potential alternative KL divergence implementation\n",
    "                # nn.functional.softmax(b, dim=1) * (nn.functional.log_softmax(b, dim=1) - nn.functional.log_softmax(rho_hat, dim=1))\n",
    "                \n",
    "                sparsity_penalty = beta * s\n",
    "                #print(sparsity_penalty)\n",
    "                train_loss = train_loss + sparsity_penalty\n",
    "                # Check whether KL divergence is behaving correctly (ie. should be nonnegative).\n",
    "                if torch.all(sparsity_penalty < 0):\n",
    "                    print('Error: sparsity penalty is negative.')\n",
    "                    print(f'rho: {rho_soft}')\n",
    "                    print(f'rho_hat: {rho_hat}')\n",
    "                    print(f'sparsity: {sparsity_penalty}')\n",
    "                    print(f'training loss: {train_loss}')\n",
    "\n",
    "            # compute accumulated gradients\n",
    "            train_loss.backward()\n",
    "\n",
    "            # perform parameter update based on current gradients\n",
    "            optimizer.step()\n",
    "\n",
    "            # add the mini-batch training loss to epoch loss\n",
    "            train_losses.append(train_loss.item())\n",
    "\n",
    "        # compute the epoch training loss\n",
    "        avg_train_loss = np.average(train_losses)\n",
    "\n",
    "        #############################    \n",
    "        #         VALIDATION        #\n",
    "        #############################\n",
    "\n",
    "        # Decoupled into three lists due to issue with placing torch tensors into multidimensional lists\n",
    "        batches = []\n",
    "        recons = []\n",
    "        val_losses = []\n",
    "\n",
    "        # Prepare model for evaluation\n",
    "        model.eval()\n",
    "\n",
    "        # since we're not training, we don't need to calculate the gradients for our outputs\n",
    "        with torch.no_grad():\n",
    "            for i, batch in enumerate(val_loader, 0):\n",
    "                batch = batch.view(-1, n_features).to(device)\n",
    "                bottleneck, reconstructions = model(batch)\n",
    "                # Reconstruction loss\n",
    "                val_loss = criterion(reconstructions, batch)\n",
    "                # Store samples, predictions, and loss for visualization purposes\n",
    "                batches.append(batch)\n",
    "                recons.append(reconstructions)\n",
    "                val_losses.append(val_loss.item())\n",
    "                #print(f'Batch {i}: {val_loss.item()}')\n",
    "\n",
    "        avg_val_loss = np.average(val_losses)\n",
    "        \n",
    "        # display the epoch training loss and validation loss\n",
    "        print(\"Epoch : {}/{}, Training Loss = {:.6f}, Validation Loss = {:.6f}\".format(epoch + 1, epochs, avg_train_loss, avg_val_loss))\n",
    "        \n",
    "        opt_epochs = epochs\n",
    "        \n",
    "        if is_early_stopping:\n",
    "            early_stopping(avg_val_loss, model)\n",
    "            if early_stopping.early_stop:\n",
    "                opt_epochs = epoch + 1\n",
    "                print(\"Early stopping...\")\n",
    "                # Exit training loop\n",
    "                break\n",
    "        else:\n",
    "            torch.save(model.state_dict(), 'checkpoint.pt')\n",
    "    \n",
    "    # load the last checkpoint with the best model\n",
    "    model.load_state_dict(torch.load('checkpoint.pt'))\n",
    "    print(f\"Epochs: {opt_epochs}, Training Loss: {avg_train_loss}, Validation Loss: {avg_val_loss}\")\n",
    "    trained_model = TrainedModel(model, avg_train_loss, avg_val_loss, epochs)\n",
    "    \n",
    "    return trained_model"
   ]
  },
  {
   "cell_type": "code",
   "execution_count": 17,
   "id": "dfe00d81-b453-42f0-9960-31b097315258",
   "metadata": {
    "tags": []
   },
   "outputs": [
    {
     "name": "stdout",
     "output_type": "stream",
     "text": [
      "existing instance\n",
      "existing instance\n",
      "existing instance\n",
      "existing instance\n",
      "Training...\n",
      "Epoch : 1/5, Training Loss = 0.118476, Validation Loss = 0.036027\n",
      "Epoch : 2/5, Training Loss = 0.033188, Validation Loss = 0.032406\n",
      "Epoch : 3/5, Training Loss = 0.030611, Validation Loss = 0.027383\n",
      "Epoch : 4/5, Training Loss = 0.017577, Validation Loss = 0.013931\n",
      "Epoch : 5/5, Training Loss = 0.012241, Validation Loss = 0.012211\n",
      "Epochs: 5, Training Loss: 0.01224080600337759, Validation Loss: 0.01221062506529245\n"
     ]
    }
   ],
   "source": [
    "# BASIC AUTOENCODER Execute training & validating\n",
    "\n",
    "lr = 1e-3\n",
    "epochs = 5\n",
    "# number of hidden units in encoder hidden layer\n",
    "n_units = 50\n",
    "# number of hidden units in latent space\n",
    "latent_units = 4\n",
    "# Boolean for whether to use Early Stopping\n",
    "is_early_stopping = False\n",
    "# early stopping patience; how long to wait after last time validation loss improved.\n",
    "patience = 20\n",
    "\n",
    "basic_model = SparseAutoEncoder(input_shape=n_features,\n",
    "                    n_units=n_units,\n",
    "                    latent_units=latent_units\n",
    "                   ).to(device)\n",
    "\n",
    "basic_trained = train_validate(model=basic_model,\n",
    "                            epochs=epochs,\n",
    "                            lr=lr,\n",
    "                            is_early_stopping=is_early_stopping, \n",
    "                            is_pca=is_pca,\n",
    "                            patience=patience)\n"
   ]
  },
  {
   "cell_type": "code",
   "execution_count": 10,
   "id": "18dd5d37-5fac-4458-a85f-c78519f2d69d",
   "metadata": {
    "tags": []
   },
   "outputs": [
    {
     "name": "stdout",
     "output_type": "stream",
     "text": [
      "existing instance\n",
      "existing instance\n",
      "existing instance\n",
      "existing instance\n",
      "Using Early Stopping\n",
      "Training...\n"
     ]
    },
    {
     "ename": "KeyboardInterrupt",
     "evalue": "",
     "output_type": "error",
     "traceback": [
      "\u001b[1;31m---------------------------------------------------------------------------\u001b[0m",
      "\u001b[1;31mKeyboardInterrupt\u001b[0m                         Traceback (most recent call last)",
      "Input \u001b[1;32mIn [10]\u001b[0m, in \u001b[0;36m<cell line: 21>\u001b[1;34m()\u001b[0m\n\u001b[0;32m     14\u001b[0m rho_tensor \u001b[38;5;241m=\u001b[39m rho_tensor\u001b[38;5;241m.\u001b[39mto(device)\n\u001b[0;32m     16\u001b[0m sparse_model \u001b[38;5;241m=\u001b[39m SparseAutoEncoder(input_shape\u001b[38;5;241m=\u001b[39mn_features,\n\u001b[0;32m     17\u001b[0m                     n_units\u001b[38;5;241m=\u001b[39mn_units,\n\u001b[0;32m     18\u001b[0m                     latent_units\u001b[38;5;241m=\u001b[39mlatent_units\n\u001b[0;32m     19\u001b[0m                    )\u001b[38;5;241m.\u001b[39mto(device)\n\u001b[1;32m---> 21\u001b[0m trained_sparse \u001b[38;5;241m=\u001b[39m \u001b[43mtrain_validate\u001b[49m\u001b[43m(\u001b[49m\u001b[43mmodel\u001b[49m\u001b[38;5;241;43m=\u001b[39;49m\u001b[43msparse_model\u001b[49m\u001b[43m,\u001b[49m\n\u001b[0;32m     22\u001b[0m \u001b[43m                                \u001b[49m\u001b[43mepochs\u001b[49m\u001b[38;5;241;43m=\u001b[39;49m\u001b[43mepochs\u001b[49m\u001b[43m,\u001b[49m\n\u001b[0;32m     23\u001b[0m \u001b[43m                                \u001b[49m\u001b[43mlr\u001b[49m\u001b[38;5;241;43m=\u001b[39;49m\u001b[43mlr\u001b[49m\u001b[43m,\u001b[49m\n\u001b[0;32m     24\u001b[0m \u001b[43m                                \u001b[49m\u001b[43mis_early_stopping\u001b[49m\u001b[38;5;241;43m=\u001b[39;49m\u001b[43mis_early_stopping\u001b[49m\u001b[43m,\u001b[49m\u001b[43m \u001b[49m\n\u001b[0;32m     25\u001b[0m \u001b[43m                                \u001b[49m\u001b[43mis_pca\u001b[49m\u001b[38;5;241;43m=\u001b[39;49m\u001b[43mis_pca\u001b[49m\u001b[43m,\u001b[49m\n\u001b[0;32m     26\u001b[0m \u001b[43m                                \u001b[49m\u001b[43mis_sparse\u001b[49m\u001b[38;5;241;43m=\u001b[39;49m\u001b[43mis_sparse\u001b[49m\u001b[43m,\u001b[49m\n\u001b[0;32m     27\u001b[0m \u001b[43m                                \u001b[49m\u001b[43mpatience\u001b[49m\u001b[38;5;241;43m=\u001b[39;49m\u001b[43mpatience\u001b[49m\u001b[43m,\u001b[49m\n\u001b[0;32m     28\u001b[0m \u001b[43m                                \u001b[49m\u001b[43mbeta\u001b[49m\u001b[38;5;241;43m=\u001b[39;49m\u001b[43mbeta\u001b[49m\u001b[43m,\u001b[49m\n\u001b[0;32m     29\u001b[0m \u001b[43m                                \u001b[49m\u001b[43mrho\u001b[49m\u001b[38;5;241;43m=\u001b[39;49m\u001b[43mrho_tensor\u001b[49m\u001b[43m)\u001b[49m\n",
      "Input \u001b[1;32mIn [9]\u001b[0m, in \u001b[0;36mtrain_validate\u001b[1;34m(model, epochs, lr, is_early_stopping, is_pca, is_sparse, patience, beta, rho)\u001b[0m\n\u001b[0;32m     62\u001b[0m optimizer\u001b[38;5;241m.\u001b[39mzero_grad()\n\u001b[0;32m     64\u001b[0m \u001b[38;5;66;03m# compute reconstructions\u001b[39;00m\n\u001b[0;32m     65\u001b[0m \u001b[38;5;66;03m# also retrieve bottleneck weights for computing sparsity penalty\u001b[39;00m\n\u001b[1;32m---> 66\u001b[0m bottleneck, decoded \u001b[38;5;241m=\u001b[39m \u001b[43mmodel\u001b[49m\u001b[43m(\u001b[49m\u001b[43mbatch\u001b[49m\u001b[43m)\u001b[49m\n\u001b[0;32m     68\u001b[0m \u001b[38;5;66;03m# Exception handler for when BCE loss has values outside range [0.0, 1.0]\u001b[39;00m\n\u001b[0;32m     69\u001b[0m \u001b[38;5;28;01mtry\u001b[39;00m:\n\u001b[0;32m     70\u001b[0m     \u001b[38;5;66;03m# compute training reconstruction loss\u001b[39;00m\n",
      "File \u001b[1;32mQ:\\anaconda3\\envs\\bigan\\lib\\site-packages\\torch\\nn\\modules\\module.py:1130\u001b[0m, in \u001b[0;36mModule._call_impl\u001b[1;34m(self, *input, **kwargs)\u001b[0m\n\u001b[0;32m   1126\u001b[0m \u001b[38;5;66;03m# If we don't have any hooks, we want to skip the rest of the logic in\u001b[39;00m\n\u001b[0;32m   1127\u001b[0m \u001b[38;5;66;03m# this function, and just call forward.\u001b[39;00m\n\u001b[0;32m   1128\u001b[0m \u001b[38;5;28;01mif\u001b[39;00m \u001b[38;5;129;01mnot\u001b[39;00m (\u001b[38;5;28mself\u001b[39m\u001b[38;5;241m.\u001b[39m_backward_hooks \u001b[38;5;129;01mor\u001b[39;00m \u001b[38;5;28mself\u001b[39m\u001b[38;5;241m.\u001b[39m_forward_hooks \u001b[38;5;129;01mor\u001b[39;00m \u001b[38;5;28mself\u001b[39m\u001b[38;5;241m.\u001b[39m_forward_pre_hooks \u001b[38;5;129;01mor\u001b[39;00m _global_backward_hooks\n\u001b[0;32m   1129\u001b[0m         \u001b[38;5;129;01mor\u001b[39;00m _global_forward_hooks \u001b[38;5;129;01mor\u001b[39;00m _global_forward_pre_hooks):\n\u001b[1;32m-> 1130\u001b[0m     \u001b[38;5;28;01mreturn\u001b[39;00m \u001b[43mforward_call\u001b[49m\u001b[43m(\u001b[49m\u001b[38;5;241;43m*\u001b[39;49m\u001b[38;5;28;43minput\u001b[39;49m\u001b[43m,\u001b[49m\u001b[43m \u001b[49m\u001b[38;5;241;43m*\u001b[39;49m\u001b[38;5;241;43m*\u001b[39;49m\u001b[43mkwargs\u001b[49m\u001b[43m)\u001b[49m\n\u001b[0;32m   1131\u001b[0m \u001b[38;5;66;03m# Do not call functions when jit is used\u001b[39;00m\n\u001b[0;32m   1132\u001b[0m full_backward_hooks, non_full_backward_hooks \u001b[38;5;241m=\u001b[39m [], []\n",
      "Input \u001b[1;32mIn [4]\u001b[0m, in \u001b[0;36mSparseAutoEncoder.forward\u001b[1;34m(self, X)\u001b[0m\n\u001b[0;32m     27\u001b[0m \u001b[38;5;28;01mdef\u001b[39;00m \u001b[38;5;21mforward\u001b[39m(\u001b[38;5;28mself\u001b[39m, X):\n\u001b[1;32m---> 28\u001b[0m     encoded \u001b[38;5;241m=\u001b[39m \u001b[38;5;28;43mself\u001b[39;49m\u001b[38;5;241;43m.\u001b[39;49m\u001b[43mencoder\u001b[49m\u001b[43m(\u001b[49m\u001b[43mX\u001b[49m\u001b[43m)\u001b[49m\n\u001b[0;32m     29\u001b[0m     bottleneck \u001b[38;5;241m=\u001b[39m \u001b[38;5;28mself\u001b[39m\u001b[38;5;241m.\u001b[39mbottleneck(encoded)\n\u001b[0;32m     30\u001b[0m     decoded \u001b[38;5;241m=\u001b[39m \u001b[38;5;28mself\u001b[39m\u001b[38;5;241m.\u001b[39mdecoder(bottleneck)\n",
      "File \u001b[1;32mQ:\\anaconda3\\envs\\bigan\\lib\\site-packages\\torch\\nn\\modules\\module.py:1130\u001b[0m, in \u001b[0;36mModule._call_impl\u001b[1;34m(self, *input, **kwargs)\u001b[0m\n\u001b[0;32m   1126\u001b[0m \u001b[38;5;66;03m# If we don't have any hooks, we want to skip the rest of the logic in\u001b[39;00m\n\u001b[0;32m   1127\u001b[0m \u001b[38;5;66;03m# this function, and just call forward.\u001b[39;00m\n\u001b[0;32m   1128\u001b[0m \u001b[38;5;28;01mif\u001b[39;00m \u001b[38;5;129;01mnot\u001b[39;00m (\u001b[38;5;28mself\u001b[39m\u001b[38;5;241m.\u001b[39m_backward_hooks \u001b[38;5;129;01mor\u001b[39;00m \u001b[38;5;28mself\u001b[39m\u001b[38;5;241m.\u001b[39m_forward_hooks \u001b[38;5;129;01mor\u001b[39;00m \u001b[38;5;28mself\u001b[39m\u001b[38;5;241m.\u001b[39m_forward_pre_hooks \u001b[38;5;129;01mor\u001b[39;00m _global_backward_hooks\n\u001b[0;32m   1129\u001b[0m         \u001b[38;5;129;01mor\u001b[39;00m _global_forward_hooks \u001b[38;5;129;01mor\u001b[39;00m _global_forward_pre_hooks):\n\u001b[1;32m-> 1130\u001b[0m     \u001b[38;5;28;01mreturn\u001b[39;00m \u001b[43mforward_call\u001b[49m\u001b[43m(\u001b[49m\u001b[38;5;241;43m*\u001b[39;49m\u001b[38;5;28;43minput\u001b[39;49m\u001b[43m,\u001b[49m\u001b[43m \u001b[49m\u001b[38;5;241;43m*\u001b[39;49m\u001b[38;5;241;43m*\u001b[39;49m\u001b[43mkwargs\u001b[49m\u001b[43m)\u001b[49m\n\u001b[0;32m   1131\u001b[0m \u001b[38;5;66;03m# Do not call functions when jit is used\u001b[39;00m\n\u001b[0;32m   1132\u001b[0m full_backward_hooks, non_full_backward_hooks \u001b[38;5;241m=\u001b[39m [], []\n",
      "File \u001b[1;32mQ:\\anaconda3\\envs\\bigan\\lib\\site-packages\\torch\\nn\\modules\\container.py:139\u001b[0m, in \u001b[0;36mSequential.forward\u001b[1;34m(self, input)\u001b[0m\n\u001b[0;32m    137\u001b[0m \u001b[38;5;28;01mdef\u001b[39;00m \u001b[38;5;21mforward\u001b[39m(\u001b[38;5;28mself\u001b[39m, \u001b[38;5;28minput\u001b[39m):\n\u001b[0;32m    138\u001b[0m     \u001b[38;5;28;01mfor\u001b[39;00m module \u001b[38;5;129;01min\u001b[39;00m \u001b[38;5;28mself\u001b[39m:\n\u001b[1;32m--> 139\u001b[0m         \u001b[38;5;28minput\u001b[39m \u001b[38;5;241m=\u001b[39m \u001b[43mmodule\u001b[49m\u001b[43m(\u001b[49m\u001b[38;5;28;43minput\u001b[39;49m\u001b[43m)\u001b[49m\n\u001b[0;32m    140\u001b[0m     \u001b[38;5;28;01mreturn\u001b[39;00m \u001b[38;5;28minput\u001b[39m\n",
      "File \u001b[1;32mQ:\\anaconda3\\envs\\bigan\\lib\\site-packages\\torch\\nn\\modules\\module.py:1130\u001b[0m, in \u001b[0;36mModule._call_impl\u001b[1;34m(self, *input, **kwargs)\u001b[0m\n\u001b[0;32m   1126\u001b[0m \u001b[38;5;66;03m# If we don't have any hooks, we want to skip the rest of the logic in\u001b[39;00m\n\u001b[0;32m   1127\u001b[0m \u001b[38;5;66;03m# this function, and just call forward.\u001b[39;00m\n\u001b[0;32m   1128\u001b[0m \u001b[38;5;28;01mif\u001b[39;00m \u001b[38;5;129;01mnot\u001b[39;00m (\u001b[38;5;28mself\u001b[39m\u001b[38;5;241m.\u001b[39m_backward_hooks \u001b[38;5;129;01mor\u001b[39;00m \u001b[38;5;28mself\u001b[39m\u001b[38;5;241m.\u001b[39m_forward_hooks \u001b[38;5;129;01mor\u001b[39;00m \u001b[38;5;28mself\u001b[39m\u001b[38;5;241m.\u001b[39m_forward_pre_hooks \u001b[38;5;129;01mor\u001b[39;00m _global_backward_hooks\n\u001b[0;32m   1129\u001b[0m         \u001b[38;5;129;01mor\u001b[39;00m _global_forward_hooks \u001b[38;5;129;01mor\u001b[39;00m _global_forward_pre_hooks):\n\u001b[1;32m-> 1130\u001b[0m     \u001b[38;5;28;01mreturn\u001b[39;00m \u001b[43mforward_call\u001b[49m\u001b[43m(\u001b[49m\u001b[38;5;241;43m*\u001b[39;49m\u001b[38;5;28;43minput\u001b[39;49m\u001b[43m,\u001b[49m\u001b[43m \u001b[49m\u001b[38;5;241;43m*\u001b[39;49m\u001b[38;5;241;43m*\u001b[39;49m\u001b[43mkwargs\u001b[49m\u001b[43m)\u001b[49m\n\u001b[0;32m   1131\u001b[0m \u001b[38;5;66;03m# Do not call functions when jit is used\u001b[39;00m\n\u001b[0;32m   1132\u001b[0m full_backward_hooks, non_full_backward_hooks \u001b[38;5;241m=\u001b[39m [], []\n",
      "File \u001b[1;32mQ:\\anaconda3\\envs\\bigan\\lib\\site-packages\\torch\\nn\\modules\\linear.py:114\u001b[0m, in \u001b[0;36mLinear.forward\u001b[1;34m(self, input)\u001b[0m\n\u001b[0;32m    113\u001b[0m \u001b[38;5;28;01mdef\u001b[39;00m \u001b[38;5;21mforward\u001b[39m(\u001b[38;5;28mself\u001b[39m, \u001b[38;5;28minput\u001b[39m: Tensor) \u001b[38;5;241m-\u001b[39m\u001b[38;5;241m>\u001b[39m Tensor:\n\u001b[1;32m--> 114\u001b[0m     \u001b[38;5;28;01mreturn\u001b[39;00m \u001b[43mF\u001b[49m\u001b[38;5;241;43m.\u001b[39;49m\u001b[43mlinear\u001b[49m\u001b[43m(\u001b[49m\u001b[38;5;28;43minput\u001b[39;49m\u001b[43m,\u001b[49m\u001b[43m \u001b[49m\u001b[38;5;28;43mself\u001b[39;49m\u001b[38;5;241;43m.\u001b[39;49m\u001b[43mweight\u001b[49m\u001b[43m,\u001b[49m\u001b[43m \u001b[49m\u001b[38;5;28;43mself\u001b[39;49m\u001b[38;5;241;43m.\u001b[39;49m\u001b[43mbias\u001b[49m\u001b[43m)\u001b[49m\n",
      "\u001b[1;31mKeyboardInterrupt\u001b[0m: "
     ]
    }
   ],
   "source": [
    "# SPARSE AUTOENCODER Execute training & validating\n",
    "lr = 1e-3\n",
    "epochs = 200\n",
    "n_units = 50\n",
    "latent_units = 20\n",
    "is_early_stopping = True\n",
    "# early stopping patience; how long to wait after last time validation loss improved.\n",
    "patience = 5\n",
    "\n",
    "is_sparse = True\n",
    "beta = 2\n",
    "rho = 0.1\n",
    "rho_tensor = torch.FloatTensor([rho for _ in range(latent_units)]).unsqueeze(0)\n",
    "rho_tensor = rho_tensor.to(device)\n",
    "\n",
    "sparse_model = SparseAutoEncoder(input_shape=n_features,\n",
    "                    n_units=n_units,\n",
    "                    latent_units=latent_units\n",
    "                   ).to(device)\n",
    "\n",
    "trained_sparse = train_validate(model=sparse_model,\n",
    "                                epochs=epochs,\n",
    "                                lr=lr,\n",
    "                                is_early_stopping=is_early_stopping, \n",
    "                                is_pca=is_pca,\n",
    "                                is_sparse=is_sparse,\n",
    "                                patience=patience,\n",
    "                                beta=beta,\n",
    "                                rho=rho_tensor)"
   ]
  },
  {
   "cell_type": "markdown",
   "id": "5834a8e2-4918-4a96-abfe-f4860ead4a29",
   "metadata": {},
   "source": [
    "# Parameter - Latent Weights Correlation"
   ]
  },
  {
   "cell_type": "code",
   "execution_count": 44,
   "id": "2dd8f6fc-ac70-4663-b8d6-7699cd49e223",
   "metadata": {},
   "outputs": [
    {
     "data": {
      "text/plain": [
       "[tensor(0.0269, device='cuda:0'),\n",
       " tensor(0.0190, device='cuda:0'),\n",
       " tensor(-0.0087, device='cuda:0'),\n",
       " tensor(0.0217, device='cuda:0'),\n",
       " tensor(0.0138, device='cuda:0'),\n",
       " tensor(0.0422, device='cuda:0'),\n",
       " tensor(-0.0391, device='cuda:0'),\n",
       " tensor(-0.0091, device='cuda:0'),\n",
       " tensor(0.0196, device='cuda:0'),\n",
       " tensor(-0.0090, device='cuda:0'),\n",
       " tensor(-0.0293, device='cuda:0'),\n",
       " tensor(-0.0010, device='cuda:0'),\n",
       " tensor(0.0221, device='cuda:0'),\n",
       " tensor(-0.0083, device='cuda:0'),\n",
       " tensor(-0.0190, device='cuda:0'),\n",
       " tensor(-0.0154, device='cuda:0'),\n",
       " tensor(0.0409, device='cuda:0'),\n",
       " tensor(0.0259, device='cuda:0'),\n",
       " tensor(-0.0077, device='cuda:0'),\n",
       " tensor(0.0411, device='cuda:0')]"
      ]
     },
     "execution_count": 44,
     "metadata": {},
     "output_type": "execute_result"
    }
   ],
   "source": [
    "avg_weights = []\n",
    "for neuron in sparse_model.state_dict()['bottleneck.0.weight']:\n",
    "    avg = torch.mean(neuron)\n",
    "    avg_weights.append(avg)\n",
    "avg_weights\n",
    "\n",
    "# PATH = './cifar_net.pth'\n",
    "# torch.save(net.state_dict(), PATH)"
   ]
  },
  {
   "cell_type": "code",
   "execution_count": 16,
   "id": "9264bdd9-b7ff-44ad-b6e5-5ba3c3f90c3f",
   "metadata": {},
   "outputs": [
    {
     "data": {
      "text/plain": [
       "tensor(0.5699, device='cuda:0')"
      ]
     },
     "execution_count": 16,
     "metadata": {},
     "output_type": "execute_result"
    }
   ],
   "source": [
    "sum = 0\n",
    "for i in avg_weights:\n",
    "    sum += i\n",
    "sum"
   ]
  },
  {
   "cell_type": "code",
   "execution_count": 15,
   "id": "b4d7daf0-67b8-42ad-949c-7007d535b02e",
   "metadata": {},
   "outputs": [
    {
     "data": {
      "text/plain": [
       "tensor([[ 0.0310,  1.0962, -0.0593],\n",
       "        [ 0.0000,  0.0000,  0.0000]])"
      ]
     },
     "execution_count": 15,
     "metadata": {},
     "output_type": "execute_result"
    }
   ],
   "source": [
    "a = torch.tensor([[1,2,3], [0.5, 0.5, 0.5]])\n",
    "b = torch.tensor([[8,10,6], [0.5, 0.5, 0.5]])\n",
    "torch.nn.functional.kl_div(torch.nn.functional.log_softmax(a, 1), torch.nn.functional.log_softmax(b, 1), reduction=\"none\", log_target=True)"
   ]
  },
  {
   "cell_type": "markdown",
   "id": "bb2ff135-bccb-4e15-938f-98ceaf60be72",
   "metadata": {
    "tags": []
   },
   "source": [
    "# Testing"
   ]
  },
  {
   "cell_type": "code",
   "execution_count": 46,
   "id": "b25a7fcd-6d6b-4233-a89d-a446f57a2bb6",
   "metadata": {},
   "outputs": [],
   "source": [
    "def test(model, n_features):\n",
    "    # Decoupled into three lists due to issue with placing torch tensors into multidimensional lists\n",
    "    batches = []\n",
    "    recons = []\n",
    "    test_losses = []\n",
    "    criterion = nn.BCELoss()\n",
    "\n",
    "    # Prepare model for evaluation\n",
    "    model.eval()\n",
    "\n",
    "    # since we're not training, we don't need to calculate the gradients for our outputs\n",
    "    with torch.no_grad():\n",
    "        for i, batch in enumerate(test_loader, 0):\n",
    "            #batch = batch.view(-1, n_features).to(device)\n",
    "            batch = batch.to(device)\n",
    "            bottleneck, reconstructions = model(batch)\n",
    "            # Reconstruction loss\n",
    "            test_loss = criterion(reconstructions, batch)\n",
    "            # Store samples, predictions, and loss for visualization purposes\n",
    "            batches.append(batch)\n",
    "            recons.append(reconstructions)\n",
    "            test_losses.append(test_loss.item())\n",
    "            print(f'Batch {i}: {test_loss.item()}')\n",
    "\n",
    "    avg_test_loss = np.average(test_losses)\n",
    "    print(f\"Average Test Reconstruction Loss: {avg_test_loss}\")\n",
    "    \n",
    "    return batches, recons, test_losses"
   ]
  },
  {
   "cell_type": "code",
   "execution_count": null,
   "id": "4ebf4ee5-f067-4e22-abd0-43602f25cd88",
   "metadata": {},
   "outputs": [],
   "source": [
    "t1 = torch.tensor(np.array([[[1, 2, 3], [4, 5, 6]], [[7, 8, 9], [10, 11, 12]]]))\n",
    "t2 = t1.view(-1, 6)\n",
    "print(t1.size())\n",
    "print(t2.size())\n",
    "print(t1)\n",
    "print(t2)"
   ]
  },
  {
   "cell_type": "code",
   "execution_count": 47,
   "id": "e14ca1c5-3d5e-4f1f-874b-f586ec9cc44d",
   "metadata": {},
   "outputs": [
    {
     "name": "stdout",
     "output_type": "stream",
     "text": [
      "Batch 0: 0.11366384476423264\n",
      "Batch 1: 0.0788349062204361\n",
      "Batch 2: 0.08862796425819397\n",
      "Batch 3: 0.107733815908432\n",
      "Batch 4: 0.08188296854496002\n",
      "Batch 5: 0.11364292353391647\n",
      "Batch 6: 0.11254050582647324\n",
      "Batch 7: 0.09645406156778336\n",
      "Batch 8: 0.08107781410217285\n",
      "Batch 9: 0.08193500339984894\n",
      "Batch 10: 0.10115790367126465\n",
      "Batch 11: 0.0958494022488594\n",
      "Batch 12: 0.09555577486753464\n",
      "Batch 13: 0.1088915690779686\n",
      "Batch 14: 0.10443869978189468\n",
      "Batch 15: 0.0965227261185646\n",
      "Batch 16: 0.08624961227178574\n",
      "Batch 17: 0.09305823594331741\n",
      "Batch 18: 0.08984220772981644\n",
      "Batch 19: 0.09535416215658188\n",
      "Batch 20: 0.10902481526136398\n",
      "Batch 21: 0.08939197659492493\n",
      "Batch 22: 0.09736642241477966\n",
      "Batch 23: 0.08576509356498718\n",
      "Batch 24: 0.11556720733642578\n",
      "Batch 25: 0.09406313300132751\n",
      "Batch 26: 0.07954228669404984\n",
      "Batch 27: 0.09088060259819031\n",
      "Batch 28: 0.09543207287788391\n",
      "Batch 29: 0.09624474495649338\n",
      "Batch 30: 0.07735878229141235\n",
      "Batch 31: 0.0958065614104271\n",
      "Batch 32: 0.10420184582471848\n",
      "Batch 33: 0.09574782103300095\n",
      "Batch 34: 0.09629496186971664\n",
      "Batch 35: 0.09760542213916779\n",
      "Batch 36: 0.10027125477790833\n",
      "Batch 37: 0.09719861298799515\n",
      "Batch 38: 0.10694992542266846\n",
      "Batch 39: 0.08710433542728424\n",
      "Batch 40: 0.09713058173656464\n",
      "Batch 41: 0.07640442252159119\n",
      "Batch 42: 0.11060848087072372\n",
      "Batch 43: 0.0823090672492981\n",
      "Batch 44: 0.08355933427810669\n",
      "Batch 45: 0.09796547889709473\n",
      "Batch 46: 0.10001721978187561\n",
      "Average Test Reconstruction Loss: 0.09538567161306422\n"
     ]
    }
   ],
   "source": [
    "batches, recons, test_losses = test(sparse_model, n_features)"
   ]
  },
  {
   "cell_type": "code",
   "execution_count": null,
   "id": "1ac96cd0-4595-40f2-9b59-37ffc74b485a",
   "metadata": {},
   "outputs": [],
   "source": [
    "batches, recons, test_losses = test(basic_model, n_features)"
   ]
  },
  {
   "cell_type": "markdown",
   "id": "08a0797b-b169-4534-a8cb-bf679aad6a30",
   "metadata": {},
   "source": [
    "# Visualization"
   ]
  },
  {
   "cell_type": "code",
   "execution_count": 48,
   "id": "411133d1-7a8f-4acf-9c70-3fb090cef252",
   "metadata": {
    "tags": []
   },
   "outputs": [
    {
     "data": {
      "image/png": "[encoded data removed]",
      "text/plain": [
       "<Figure size 576x576 with 3 Axes>"
      ]
     },
     "metadata": {
      "needs_background": "light"
     },
     "output_type": "display_data"
    },
    {
     "data": {
      "image/png": "[encoded data removed]",
      "text/plain": [
       "<Figure size 576x576 with 3 Axes>"
      ]
     },
     "metadata": {
      "needs_background": "light"
     },
     "output_type": "display_data"
    },
    {
     "data": {
      "image/png": "[encoded data removed]",
      "text/plain": [
       "<Figure size 576x576 with 3 Axes>"
      ]
     },
     "metadata": {
      "needs_background": "light"
     },
     "output_type": "display_data"
    },
    {
     "data": {
      "image/png": "[encoded data removed]",
      "text/plain": [
       "<Figure size 576x576 with 3 Axes>"
      ]
     },
     "metadata": {
      "needs_background": "light"
     },
     "output_type": "display_data"
    },
    {
     "data": {
      "image/png": "[encoded data removed]",
      "text/plain": [
       "<Figure size 576x576 with 3 Axes>"
      ]
     },
     "metadata": {
      "needs_background": "light"
     },
     "output_type": "display_data"
    },
    {
     "data": {
      "image/png": "[encoded data removed]",
      "text/plain": [
       "<Figure size 576x576 with 3 Axes>"
      ]
     },
     "metadata": {
      "needs_background": "light"
     },
     "output_type": "display_data"
    },
    {
     "data": {
      "image/png": "[encoded data removed]",
      "text/plain": [
       "<Figure size 576x576 with 3 Axes>"
      ]
     },
     "metadata": {
      "needs_background": "light"
     },
     "output_type": "display_data"
    },
    {
     "data": {
      "image/png": "[encoded data removed]",
      "text/plain": [
       "<Figure size 576x576 with 3 Axes>"
      ]
     },
     "metadata": {
      "needs_background": "light"
     },
     "output_type": "display_data"
    },
    {
     "data": {
      "image/png": "[encoded data removed]",
      "text/plain": [
       "<Figure size 576x576 with 3 Axes>"
      ]
     },
     "metadata": {
      "needs_background": "light"
     },
     "output_type": "display_data"
    },
    {
     "data": {
      "image/png": "[encoded data removed]",
      "text/plain": [
       "<Figure size 576x576 with 3 Axes>"
      ]
     },
     "metadata": {
      "needs_background": "light"
     },
     "output_type": "display_data"
    },
    {
     "data": {
      "image/png": "[encoded data removed]",
      "text/plain": [
       "<Figure size 576x576 with 3 Axes>"
      ]
     },
     "metadata": {
      "needs_background": "light"
     },
     "output_type": "display_data"
    },
    {
     "name": "stderr",
     "output_type": "stream",
     "text": [
      "\n",
      "KeyboardInterrupt\n",
      "\n"
     ]
    },
    {
     "data": {
      "image/png": "[encoded data removed]",
      "text/plain": [
       "<Figure size 576x576 with 1 Axes>"
      ]
     },
     "metadata": {
      "needs_background": "light"
     },
     "output_type": "display_data"
    }
   ],
   "source": [
    "# Visualization\n",
    "\n",
    "for i in range(len(recons)):\n",
    "    loss = test_losses[i]\n",
    "    batch = batches[i]\n",
    "    reconstructions = recons[i]\n",
    "    # Iterate through all examples in ith batch\n",
    "    for j in range(len(batch)):\n",
    "        # Reshape original example for plotting back into 30x30\n",
    "        # or keep as vector of components if using PCA.\n",
    "        if is_pca:\n",
    "            original = batch[j].reshape(1, n_features)\n",
    "        else:\n",
    "            original = batch[j].reshape(data.shape[1], data.shape[2])\n",
    "        original = original.cpu()\n",
    "        # Reshape reconstructed example for plotting\n",
    "        # or keep as vector of components if using PCA.\n",
    "        if is_pca:\n",
    "            reconstruction = reconstructions[j].reshape(1, n_features)\n",
    "        else:\n",
    "            reconstruction = reconstructions[j].reshape(data.shape[1], data.shape[2])\n",
    "        reconstruction = reconstruction.cpu()\n",
    "        \n",
    "        fig = plt.figure(figsize=(8, 8))\n",
    "        plt.title(\"Batch : {}/{}, Batch Reconstruction Loss = {:.6f}\".format(i+1, len(recons), loss))\n",
    "        plt.axis('off')\n",
    "        # display original\n",
    "        fig.add_subplot(1, 2, 1)\n",
    "        plt.imshow(original)\n",
    "        plt.axis('off')\n",
    "        plt.title(\"original\")\n",
    "        plt.gray()\n",
    "        \n",
    "        # fig.get_xaxis().set_visible(False)\n",
    "        # fig.get_yaxis().set_visible(False)\n",
    "\n",
    "        # display reconstruction\n",
    "        fig.add_subplot(1, 2, 2)\n",
    "        plt.imshow(reconstruction)\n",
    "        plt.axis('off')\n",
    "        plt.title(\"reconstructed\")\n",
    "        plt.gray()\n",
    "        # fig.get_xaxis().set_visible(False)\n",
    "        # fig.get_yaxis().set_visible(False)\n",
    "        plt.show()"
   ]
  }
 ],
 "metadata": {
  "kernelspec": {
   "display_name": "Python [conda env:bigan] *",
   "language": "python",
   "name": "conda-env-bigan-py"
  },
  "language_info": {
   "codemirror_mode": {
    "name": "ipython",
    "version": 3
   },
   "file_extension": ".py",
   "mimetype": "text/x-python",
   "name": "python",
   "nbconvert_exporter": "python",
   "pygments_lexer": "ipython3",
   "version": "3.8.13"
  }
 },
 "nbformat": 4,
 "nbformat_minor": 5
}
