{
 "cells": [
  {
   "cell_type": "code",
   "execution_count": 1,
   "id": "9c44b4cc",
   "metadata": {
    "tags": []
   },
   "outputs": [],
   "source": [
    "import os\n",
    "import torch\n",
    "import torchvision\n",
    "from torch.utils.data import Dataset, DataLoader\n",
    "from torchvision import datasets, models, transforms\n",
    "import torch.nn as nn\n",
    "import torch.optim as optim\n",
    "import matplotlib.pyplot as plt\n",
    "import numpy as np\n",
    "from sklearn.decomposition import PCA"
   ]
  },
  {
   "cell_type": "code",
   "execution_count": 2,
   "id": "495aef96-9947-4968-a7ac-177f81a83dd0",
   "metadata": {
    "tags": []
   },
   "outputs": [],
   "source": [
    "import sys\n",
    "sys.path.append('..\\..\\early-stopping-pytorch')\n",
    "from pytorchtools import EarlyStopping\n",
    "\n",
    "os.environ['CUDA_LAUNCH_BLOCKING'] = '1'\n",
    "\n",
    "# Adjust printing view dimensions\n",
    "np.set_printoptions(threshold=sys.maxsize, linewidth=300)\n",
    "#torch.set_printoptions(threshold=sys.maxsize, linewidth=300, profile='full')"
   ]
  },
  {
   "cell_type": "code",
   "execution_count": 3,
   "id": "70724590",
   "metadata": {
    "tags": []
   },
   "outputs": [],
   "source": [
    "class AutoEncoder(nn.Module):\n",
    "    def __init__(self, **kwargs):\n",
    "        super().__init__()\n",
    "        self.input_shape = kwargs[\"input_shape\"]\n",
    "        # number of hidden units in first hidden layer\n",
    "        self.n_units = kwargs[\"n_units\"]\n",
    "        self.latent_units = kwargs[\"latent_units\"]\n",
    "        \n",
    "        self.encoder = torch.nn.Sequential(\n",
    "            # Linear(): Initiate a linear function theta*x + b\n",
    "            nn.Linear(in_features=self.input_shape, out_features=self.n_units),\n",
    "            torch.nn.ReLU(),\n",
    "            nn.Linear(in_features=self.n_units, out_features=self.latent_units),\n",
    "            torch.nn.ReLU()\n",
    "        )\n",
    "        self.decoder = torch.nn.Sequential(\n",
    "            nn.Linear(in_features=self.latent_units, out_features=self.n_units),\n",
    "            torch.nn.ReLU(),\n",
    "            nn.Linear(in_features=self.n_units, out_features=self.input_shape),\n",
    "            torch.nn.Sigmoid()\n",
    "        )\n",
    "    \n",
    "    # X denotes features\n",
    "    def forward(self, X):\n",
    "        encode = self.encoder(X)\n",
    "        decode = self.decoder(encode)\n",
    "        return decode"
   ]
  },
  {
   "cell_type": "code",
   "execution_count": 4,
   "id": "5d6b7c31-6d35-4067-ba20-89b11ac6b70f",
   "metadata": {},
   "outputs": [],
   "source": [
    "class SparseAutoEncoder(nn.Module):\n",
    "    def __init__(self, **kwargs):\n",
    "        super().__init__()\n",
    "        self.input_shape = kwargs[\"input_shape\"]\n",
    "        # number of hidden units in first hidden layer\n",
    "        self.n_units = kwargs[\"n_units\"]\n",
    "        # number of hidden units in latent space\n",
    "        self.latent_units = kwargs[\"latent_units\"]\n",
    "        \n",
    "        self.encoder = torch.nn.Sequential(\n",
    "            nn.Linear(in_features=self.input_shape, out_features=self.n_units),\n",
    "            torch.nn.ReLU()\n",
    "        )\n",
    "        # Bottleneck is actually in the encoder, but it must be isolated in order to calculate sparsity\n",
    "        self.bottleneck = torch.nn.Sequential(\n",
    "            nn.Linear(in_features=self.n_units, out_features=self.latent_units),\n",
    "            torch.nn.ReLU()\n",
    "        )\n",
    "        self.decoder = torch.nn.Sequential(\n",
    "            nn.Linear(in_features=self.latent_units, out_features=self.n_units),\n",
    "            torch.nn.ReLU(),\n",
    "            nn.Linear(in_features=self.n_units, out_features=self.input_shape),\n",
    "            torch.nn.Sigmoid()\n",
    "        )\n",
    "    \n",
    "    # X denotes features\n",
    "    def forward(self, X):\n",
    "        encoded = self.encoder(X)\n",
    "        bottleneck = self.bottleneck(encoded)\n",
    "        decoded = self.decoder(bottleneck)\n",
    "        return bottleneck, decoded"
   ]
  },
  {
   "cell_type": "code",
   "execution_count": 5,
   "id": "dca68d50-8eeb-4d3a-8150-f5508bdf9d4c",
   "metadata": {
    "tags": []
   },
   "outputs": [
    {
     "name": "stdout",
     "output_type": "stream",
     "text": [
      "Done loading data.\n"
     ]
    }
   ],
   "source": [
    "# 10,000 samples, 30x30 matrices\n",
    "is_pca = False\n",
    "data = np.ndarray(shape=(10000,30,30))\n",
    "n_features = data.shape[1] * data.shape[2]\n",
    "\n",
    "\n",
    "for i in range(10000):\n",
    "    path = f'data/jet_matrices/sample{i+1}.dat'\n",
    "    sample = np.loadtxt(path, unpack = False)\n",
    "    data[i] = sample\n",
    "\n",
    "print(\"Done loading data.\")"
   ]
  },
  {
   "cell_type": "code",
   "execution_count": 7,
   "id": "8891f7fc-06ec-4a54-9e54-3189e67da3b9",
   "metadata": {
    "tags": []
   },
   "outputs": [],
   "source": [
    "# Flatten data and convert to Torch Tensor\n",
    "\n",
    "# 10,000 samples, 900 features\n",
    "X = np.ndarray(shape=(10000, n_features))\n",
    "for i, sample in enumerate(data):\n",
    "    flat = sample.flatten()\n",
    "    X[i] = flat\n",
    "    #print(X[i])\n",
    "\n",
    "# Convert from numpy array to Pytorch tensor\n",
    "X = torch.from_numpy(X)\n",
    "# Convert all scalars to floats. May affect training behavior (ie. reconstructions made of non-binary scalar values)\n",
    "X = X.float()"
   ]
  },
  {
   "cell_type": "markdown",
   "id": "d40435a6-d2d2-4a67-8b9d-a4ceeabda9f9",
   "metadata": {},
   "source": [
    "## PCA"
   ]
  },
  {
   "cell_type": "code",
   "execution_count": null,
   "id": "38354ca1-cb26-48dc-ad4b-73c616477bde",
   "metadata": {
    "tags": []
   },
   "outputs": [],
   "source": [
    "def de_correlate_data(X):\n",
    "    X_pert = np.copy(X)\n",
    "    i = 0\n",
    "    for col in X.T:\n",
    "        #print(col)\n",
    "        X_pert[:,i] = np.random.permutation(col)\n",
    "        #print(X_pert[:,i])\n",
    "        i += 1\n",
    "        \n",
    "    return X_pert\n",
    "\n",
    "# # function demo\n",
    "# z = np.array([[1,2,3],[4,5,6],[7,8,9]])\n",
    "# #z = np.array([[0,1,0],[1,0,1],[1,1,1]])\n",
    "# print(z)\n",
    "# X_pert = de_correlate_data(z)\n",
    "# print(X_pert)"
   ]
  },
  {
   "cell_type": "code",
   "execution_count": null,
   "id": "f1d2f802-706f-4e61-b59a-1b5a7c5c11c8",
   "metadata": {
    "tags": []
   },
   "outputs": [],
   "source": [
    "# Plot cumulative explained variance w.r.t. number of components\n",
    "\n",
    "def pca_run(X):\n",
    "    pca = PCA(n_components=0.95).fit(X)\n",
    "\n",
    "    #% matplotlib inline\n",
    "    import matplotlib.pyplot as plt\n",
    "    plt.rcParams[\"figure.figsize\"] = (12,6)\n",
    "\n",
    "    fig, ax = plt.subplots()\n",
    "    y = np.cumsum(pca.explained_variance_ratio_)\n",
    "    # n_components = number of components needed to reach cum. variance threshold\n",
    "    n_components = y.size\n",
    "    xi = np.arange(1, n_components+1, step=1)\n",
    "\n",
    "    plt.ylim(0.0,1.1)\n",
    "    plt.plot(xi, y, marker='o', linestyle='--', color='b')\n",
    "\n",
    "    plt.xlabel('Number of Components')\n",
    "    #change from 0-based array index to 1-based human-readable label\n",
    "    plt.xticks(np.arange(0, n_components+1, step=1))\n",
    "    plt.ylabel('Cumulative variance (%)')\n",
    "    plt.title('The Number of Components Needed to Explain Variance')\n",
    "\n",
    "    plt.axhline(y=0.95, color='r', linestyle='-')\n",
    "    plt.axhline(y=0.8, color='g', linestyle='-')\n",
    "    plt.axhline(y=0.9, color='b', linestyle='-')\n",
    "    plt.text(0, 0.915, '95% cut-off threshold', color = 'red', fontsize=13)\n",
    "    plt.text(24, 0.85, '90% cut-off threshold', color = 'blue', fontsize=13)\n",
    "    plt.text(12, 0.75, '80% cut-off threshold', color = 'green', fontsize=13)\n",
    "\n",
    "    ax.grid(axis='x')\n",
    "    plt.show()\n",
    "\n",
    "# Run with original data.\n",
    "pca_run(X.numpy())\n",
    "\n",
    "# Run with permutated data.\n",
    "# De-correlates features, so performing worse than original data indicates\n",
    "# existence of correlation in the original data's features.\n",
    "X_pert = de_correlate_data(X)\n",
    "pca_run(X_pert)"
   ]
  },
  {
   "cell_type": "code",
   "execution_count": null,
   "id": "7c75306b-57ab-407a-bb35-d7f160e75c5b",
   "metadata": {},
   "outputs": [],
   "source": [
    "plt.rcParams[\"figure.figsize\"] = (12,6)\n",
    "fig, ax = plt.subplots()\n",
    "plt.bar(xi, pca.explained_variance_ratio_, width=0.4)\n",
    "plt.ylabel(\"Percent of Total Variance\")\n",
    "plt.xlabel(\"Principal Component\")\n",
    "plt.title(\"Significance of Each Principal Component Towards Variance \")"
   ]
  },
  {
   "cell_type": "code",
   "execution_count": null,
   "id": "96362bf4-42d8-49b8-a6fa-aeb5a8359ee4",
   "metadata": {
    "tags": []
   },
   "outputs": [],
   "source": [
    "# PCA\n",
    "\n",
    "# Toggle to indicate to training that PCA is in use\n",
    "is_pca = True\n",
    "# -- DEFINE NUMBER OF COMPONENTS HERE --\n",
    "n_components = 5\n",
    "\n",
    "pca = PCA(n_components=n_components).fit(X.numpy())\n",
    "\n",
    "print(X)\n",
    "# If fails, re-run \"Flatten data...\" cell\n",
    "X_pca = pca.fit_transform(X)\n",
    "X_pca = torch.from_numpy(X_pca)\n",
    "# Convert all scalars to floats. May affect training behavior (ie. reconstructions made of non-binary scalar values)\n",
    "X_pca = X_pca.float()\n",
    "# Replace former n_features with number of components\n",
    "n_features = X_pca.shape[1]"
   ]
  },
  {
   "cell_type": "markdown",
   "id": "8875d4ed-f4c5-4bf5-878e-ccb76d4645d7",
   "metadata": {},
   "source": [
    "## Training & Validation"
   ]
  },
  {
   "cell_type": "code",
   "execution_count": 9,
   "id": "cc40b83a-dcd0-457f-9b37-0261177fb051",
   "metadata": {
    "tags": []
   },
   "outputs": [],
   "source": [
    "# Hyperparameters\n",
    "\n",
    "# Changes X based on whether PCA was used\n",
    "if is_pca:\n",
    "    X_2 = X_pca\n",
    "else:\n",
    "    X_2 = X\n",
    "\n",
    "batch_size = 32\n",
    "# 70/15/15 split\n",
    "train_size = int(0.7 * len(X_2))\n",
    "val_size = len(X_2) - train_size\n",
    "test_size = val_size // 2"
   ]
  },
  {
   "cell_type": "code",
   "execution_count": 10,
   "id": "6d9f72fd-043f-4203-ba7e-3098c76b6a6e",
   "metadata": {
    "tags": []
   },
   "outputs": [
    {
     "name": "stdout",
     "output_type": "stream",
     "text": [
      "cuda\n"
     ]
    }
   ],
   "source": [
    "# Initate data loaders\n",
    "\n",
    "train, val = torch.utils.data.random_split(X_2, [train_size, val_size])\n",
    "val, test = torch.utils.data.random_split(val, [test_size, test_size])\n",
    "\n",
    "train_loader = torch.utils.data.DataLoader(\n",
    "    train, batch_size=batch_size, shuffle=True, num_workers=0, pin_memory=True\n",
    ")\n",
    "\n",
    "val_loader = torch.utils.data.DataLoader(\n",
    "    val, batch_size=batch_size, shuffle=False, num_workers=0, pin_memory=True\n",
    ")\n",
    "\n",
    "test_loader = torch.utils.data.DataLoader(\n",
    "    test, batch_size=batch_size, shuffle=False, num_workers=0, pin_memory=True\n",
    ")\n",
    "\n",
    "# Use gpu if available\n",
    "device = torch.device(\"cuda\" if torch.cuda.is_available() else \"cpu\")\n",
    "print(device)"
   ]
  },
  {
   "cell_type": "code",
   "execution_count": 16,
   "id": "e006349d",
   "metadata": {
    "tags": []
   },
   "outputs": [],
   "source": [
    "#############################    \n",
    "#   TRAINING & VALIDATION   #\n",
    "#############################\n",
    "\n",
    "class ExceededRangeError(Exception):\n",
    "    \"\"\"Raised when values outside range [0.0, 1.0] are found in BCE loss\"\"\"\n",
    "    pass\n",
    "\n",
    "# Training and Validation are combined in order to allow for early stopping\n",
    "def train_validate(model, epochs, lr, is_early_stopping=False, is_pca=False, is_sparse=False, patience=None, beta=None, rho=None):\n",
    "    # Define Adam optimizer\n",
    "    optimizer = optim.Adam(model.parameters(), lr=lr)\n",
    "\n",
    "    # Binary Cross Entropy Loss\n",
    "    criterion = nn.BCELoss()\n",
    "    # See pytorch docs on why reduction is batch mean.\n",
    "    kl_divergence = nn.KLDivLoss(reduction=\"batchmean\", log_target=False)\n",
    "\n",
    "    # Reset model state if previously trained\n",
    "    torch.manual_seed(1)\n",
    "    def weights_init(m):\n",
    "        if isinstance(m, torch.nn.Linear):\n",
    "            nn.init.xavier_uniform_(m.weight.data)\n",
    "            print(\"existing instance\")\n",
    "\n",
    "    model.apply(weights_init)\n",
    "\n",
    "    # Toggle Early Stopping (if using).\n",
    "    if is_early_stopping:\n",
    "        early_stopping = EarlyStopping(patience=patience, verbose=True)\n",
    "        print(\"Using Early Stopping\")\n",
    "    if is_pca:\n",
    "        print(\"Using PCA\")\n",
    "\n",
    "    print(\"Training...\")\n",
    "    for epoch in range(epochs):\n",
    "        \n",
    "        #############################    \n",
    "        #          TRAINING         #\n",
    "        #############################\n",
    "        \n",
    "        loss = 0\n",
    "        # Prepare model for training\n",
    "        model.eval()\n",
    "        train_losses = []\n",
    "        for i, batch in enumerate(train_loader, 0):\n",
    "\n",
    "            # reshape mini-batch data from [batch_size, 30, 30] to [batch_size, 900]\n",
    "            # load it to the active device\n",
    "            batch = batch\n",
    "            batch = batch.view(-1, n_features).to(device)\n",
    "\n",
    "            # reset the gradients back to zero\n",
    "            # PyTorch accumulates gradients on subsequent backward passes\n",
    "            optimizer.zero_grad()\n",
    "\n",
    "            # compute reconstructions\n",
    "            # also retrieve bottleneck weights for computing sparsity penalty\n",
    "            bottleneck, decoded = model(batch)\n",
    "\n",
    "            # Exception handler for when BCE loss has values outside range [0.0, 1.0]\n",
    "            try:\n",
    "                # compute training reconstruction loss\n",
    "                train_loss = criterion(decoded, batch)\n",
    "            except RuntimeError:\n",
    "                print('Runtime Error during loss calculation. BCE loss has values outside range [0.0, 1.0]')\n",
    "                for k, sample in enumerate(decoded):\n",
    "                    print(k)\n",
    "                    print(sample)\n",
    "                    \n",
    "            # add sparsity penalty to loss, if toggled\n",
    "            if is_sparse:\n",
    "                rho_hat = torch.sum(bottleneck, dim=0, keepdim=True)\n",
    "                # the input KL Divergence must be in log space and in a distribution, hence log & softmax.\n",
    "                rho_hat = torch.nn.functional.log_softmax(rho_hat, dim=1)\n",
    "                # Converting target to softmax in our case is unecessary because rho is the same for all values,\n",
    "                # thus no change occurs. However, we do need to convert target to log-space due to a PyTorch bug.\n",
    "                rho_soft = torch.nn.functional.log_softmax(rho, dim=1)\n",
    "                s = kl_divergence(rho_hat, rho_soft)\n",
    "                \n",
    "                # Potential alternative KL divergence implementation\n",
    "                # nn.functional.softmax(b, dim=1) * (nn.functional.log_softmax(b, dim=1) - nn.functional.log_softmax(rho_hat, dim=1))\n",
    "                \n",
    "                sparsity_penalty = beta * s\n",
    "                train_loss = train_loss + sparsity_penalty\n",
    "                # Check whether KL divergence is behaving correctly (ie. should be nonnegative).\n",
    "                if torch.all(sparsity_penalty < 0):\n",
    "                    print('Error: sparsity penalty is negative.')\n",
    "                    print(f'rho: {rho_soft}')\n",
    "                    print(f'rho_hat: {rho_hat}')\n",
    "                    print(f'sparsity: {sparsity_penalty}')\n",
    "                    print(f'training loss: {train_loss}')\n",
    "\n",
    "            # compute accumulated gradients\n",
    "            train_loss.backward()\n",
    "\n",
    "            # perform parameter update based on current gradients\n",
    "            optimizer.step()\n",
    "\n",
    "            # add the mini-batch training loss to epoch loss\n",
    "            train_losses.append(train_loss.item())\n",
    "\n",
    "        # compute the epoch training loss\n",
    "        avg_train_loss = np.average(train_losses)\n",
    "\n",
    "        #############################    \n",
    "        #         VALIDATION        #\n",
    "        #############################\n",
    "\n",
    "        # Decoupled into three lists due to issue with placing torch tensors into multidimensional lists\n",
    "        batches = []\n",
    "        recons = []\n",
    "        val_losses = []\n",
    "\n",
    "        # Prepare model for evaluation\n",
    "        model.eval()\n",
    "\n",
    "        # since we're not training, we don't need to calculate the gradients for our outputs\n",
    "        with torch.no_grad():\n",
    "            for i, batch in enumerate(val_loader, 0):\n",
    "                batch = batch.view(-1, n_features).to(device)\n",
    "                bottleneck, reconstructions = model(batch)\n",
    "                # Reconstruction loss\n",
    "                val_loss = criterion(reconstructions, batch)\n",
    "                # Store samples, predictions, and loss for visualization purposes\n",
    "                batches.append(batch)\n",
    "                recons.append(reconstructions)\n",
    "                val_losses.append(val_loss.item())\n",
    "                #print(f'Batch {i}: {val_loss.item()}')\n",
    "\n",
    "        avg_val_loss = np.average(val_losses)\n",
    "        \n",
    "        # display the epoch training loss and validation loss\n",
    "        print(\"Epoch : {}/{}, Training Loss = {:.6f}, Validation Loss = {:.6f}\".format(epoch + 1, epochs, avg_train_loss, avg_val_loss))\n",
    "        \n",
    "        opt_epochs = epochs\n",
    "        \n",
    "        if is_early_stopping:\n",
    "            early_stopping(avg_val_loss, model)\n",
    "            if early_stopping.early_stop:\n",
    "                opt_epochs = epoch + 1\n",
    "                print(\"Early stopping...\")\n",
    "                # Exit training loop\n",
    "                break\n",
    "        else:\n",
    "            torch.save(model.state_dict(), 'checkpoint.pt')\n",
    "    \n",
    "    # load the last checkpoint with the best model\n",
    "    model.load_state_dict(torch.load('checkpoint.pt'))\n",
    "    print(f\"Epochs: {opt_epochs}, Training Loss: {avg_train_loss}, Validation Loss: {avg_val_loss}\")\n",
    "    \n",
    "    return  model, avg_train_loss, avg_val_loss, opt_epochs"
   ]
  },
  {
   "cell_type": "code",
   "execution_count": 17,
   "id": "dfe00d81-b453-42f0-9960-31b097315258",
   "metadata": {
    "tags": []
   },
   "outputs": [
    {
     "name": "stdout",
     "output_type": "stream",
     "text": [
      "existing instance\n",
      "existing instance\n",
      "existing instance\n",
      "existing instance\n",
      "Training...\n",
      "Epoch : 1/5, Training Loss = 0.118476, Validation Loss = 0.036027\n",
      "Epoch : 2/5, Training Loss = 0.033188, Validation Loss = 0.032406\n",
      "Epoch : 3/5, Training Loss = 0.030611, Validation Loss = 0.027383\n",
      "Epoch : 4/5, Training Loss = 0.017577, Validation Loss = 0.013931\n",
      "Epoch : 5/5, Training Loss = 0.012241, Validation Loss = 0.012211\n",
      "Epochs: 5, Training Loss: 0.01224080600337759, Validation Loss: 0.01221062506529245\n"
     ]
    }
   ],
   "source": [
    "# BASIC AUTOENCODER Execute training & validating\n",
    "\n",
    "lr = 1e-3\n",
    "epochs = 5\n",
    "# number of hidden units in encoder hidden layer\n",
    "n_units = 50\n",
    "# number of hidden units in latent space\n",
    "latent_units = 4\n",
    "# Boolean for whether to use Early Stopping\n",
    "is_early_stopping = False\n",
    "# early stopping patience; how long to wait after last time validation loss improved.\n",
    "patience = 20\n",
    "\n",
    "basic_model = SparseAutoEncoder(input_shape=n_features,\n",
    "                    n_units=n_units,\n",
    "                    latent_units=latent_units\n",
    "                   ).to(device)\n",
    "\n",
    "basic_model, avg_train_loss, avg_val_loss, opt_epochs = train_validate(model=basic_model,\n",
    "                                                                        epochs=epochs,\n",
    "                                                                        lr=lr,\n",
    "                                                                        is_early_stopping=is_early_stopping, \n",
    "                                                                        is_pca=is_pca,\n",
    "                                                                        patience=patience)\n"
   ]
  },
  {
   "cell_type": "code",
   "execution_count": 22,
   "id": "18dd5d37-5fac-4458-a85f-c78519f2d69d",
   "metadata": {
    "tags": []
   },
   "outputs": [
    {
     "name": "stdout",
     "output_type": "stream",
     "text": [
      "existing instance\n",
      "existing instance\n",
      "existing instance\n",
      "existing instance\n",
      "Using Early Stopping\n",
      "Training...\n",
      "Epoch : 1/200, Training Loss = 0.097116, Validation Loss = 0.034743\n",
      "Validation loss decreased (inf --> 0.034743).  Saving model ...\n",
      "Epoch : 2/200, Training Loss = 0.030651, Validation Loss = 0.023088\n",
      "Validation loss decreased (0.034743 --> 0.023088).  Saving model ...\n",
      "Epoch : 3/200, Training Loss = 0.015933, Validation Loss = 0.013342\n",
      "Validation loss decreased (0.023088 --> 0.013342).  Saving model ...\n",
      "Epoch : 4/200, Training Loss = 0.011954, Validation Loss = 0.011829\n",
      "Validation loss decreased (0.013342 --> 0.011829).  Saving model ...\n",
      "Epoch : 5/200, Training Loss = 0.011057, Validation Loss = 0.011542\n",
      "Validation loss decreased (0.011829 --> 0.011542).  Saving model ...\n",
      "Epoch : 6/200, Training Loss = 0.010475, Validation Loss = 0.010800\n",
      "Validation loss decreased (0.011542 --> 0.010800).  Saving model ...\n",
      "Epoch : 7/200, Training Loss = 0.010129, Validation Loss = 0.010992\n",
      "EarlyStopping counter: 1 out of 5\n",
      "Epoch : 8/200, Training Loss = 0.009836, Validation Loss = 0.010440\n",
      "Validation loss decreased (0.010800 --> 0.010440).  Saving model ...\n",
      "Epoch : 9/200, Training Loss = 0.009610, Validation Loss = 0.010056\n",
      "Validation loss decreased (0.010440 --> 0.010056).  Saving model ...\n",
      "Epoch : 10/200, Training Loss = 0.009281, Validation Loss = 0.009893\n",
      "Validation loss decreased (0.010056 --> 0.009893).  Saving model ...\n",
      "Epoch : 11/200, Training Loss = 0.008774, Validation Loss = 0.009519\n",
      "Validation loss decreased (0.009893 --> 0.009519).  Saving model ...\n",
      "Epoch : 12/200, Training Loss = 0.008475, Validation Loss = 0.009119\n",
      "Validation loss decreased (0.009519 --> 0.009119).  Saving model ...\n",
      "Epoch : 13/200, Training Loss = 0.008154, Validation Loss = 0.008932\n",
      "Validation loss decreased (0.009119 --> 0.008932).  Saving model ...\n",
      "Epoch : 14/200, Training Loss = 0.007900, Validation Loss = 0.008852\n",
      "Validation loss decreased (0.008932 --> 0.008852).  Saving model ...\n",
      "Epoch : 15/200, Training Loss = 0.007759, Validation Loss = 0.008438\n",
      "Validation loss decreased (0.008852 --> 0.008438).  Saving model ...\n",
      "Epoch : 16/200, Training Loss = 0.007503, Validation Loss = 0.008096\n",
      "Validation loss decreased (0.008438 --> 0.008096).  Saving model ...\n",
      "Epoch : 17/200, Training Loss = 0.007145, Validation Loss = 0.007785\n",
      "Validation loss decreased (0.008096 --> 0.007785).  Saving model ...\n",
      "Epoch : 18/200, Training Loss = 0.006793, Validation Loss = 0.007523\n",
      "Validation loss decreased (0.007785 --> 0.007523).  Saving model ...\n",
      "Epoch : 19/200, Training Loss = 0.006502, Validation Loss = 0.007375\n",
      "Validation loss decreased (0.007523 --> 0.007375).  Saving model ...\n",
      "Epoch : 20/200, Training Loss = 0.006215, Validation Loss = 0.006803\n",
      "Validation loss decreased (0.007375 --> 0.006803).  Saving model ...\n",
      "Epoch : 21/200, Training Loss = 0.005973, Validation Loss = 0.006749\n",
      "Validation loss decreased (0.006803 --> 0.006749).  Saving model ...\n",
      "Epoch : 22/200, Training Loss = 0.005677, Validation Loss = 0.006424\n",
      "Validation loss decreased (0.006749 --> 0.006424).  Saving model ...\n",
      "Epoch : 23/200, Training Loss = 0.005461, Validation Loss = 0.006355\n",
      "Validation loss decreased (0.006424 --> 0.006355).  Saving model ...\n",
      "Epoch : 24/200, Training Loss = 0.005369, Validation Loss = 0.006154\n",
      "Validation loss decreased (0.006355 --> 0.006154).  Saving model ...\n",
      "Epoch : 25/200, Training Loss = 0.005152, Validation Loss = 0.006187\n",
      "EarlyStopping counter: 1 out of 5\n",
      "Epoch : 26/200, Training Loss = 0.005054, Validation Loss = 0.005799\n",
      "Validation loss decreased (0.006154 --> 0.005799).  Saving model ...\n",
      "Epoch : 27/200, Training Loss = 0.004923, Validation Loss = 0.005600\n",
      "Validation loss decreased (0.005799 --> 0.005600).  Saving model ...\n",
      "Epoch : 28/200, Training Loss = 0.004777, Validation Loss = 0.005590\n",
      "Validation loss decreased (0.005600 --> 0.005590).  Saving model ...\n",
      "Epoch : 29/200, Training Loss = 0.004682, Validation Loss = 0.005378\n",
      "Validation loss decreased (0.005590 --> 0.005378).  Saving model ...\n",
      "Epoch : 30/200, Training Loss = 0.004527, Validation Loss = 0.005324\n",
      "Validation loss decreased (0.005378 --> 0.005324).  Saving model ...\n",
      "Epoch : 31/200, Training Loss = 0.004392, Validation Loss = 0.005364\n",
      "EarlyStopping counter: 1 out of 5\n",
      "Epoch : 32/200, Training Loss = 0.004320, Validation Loss = 0.005133\n",
      "Validation loss decreased (0.005324 --> 0.005133).  Saving model ...\n",
      "Epoch : 33/200, Training Loss = 0.004273, Validation Loss = 0.005117\n",
      "Validation loss decreased (0.005133 --> 0.005117).  Saving model ...\n",
      "Epoch : 34/200, Training Loss = 0.004050, Validation Loss = 0.004889\n",
      "Validation loss decreased (0.005117 --> 0.004889).  Saving model ...\n",
      "Epoch : 35/200, Training Loss = 0.003985, Validation Loss = 0.004835\n",
      "Validation loss decreased (0.004889 --> 0.004835).  Saving model ...\n",
      "Epoch : 36/200, Training Loss = 0.003984, Validation Loss = 0.004908\n",
      "EarlyStopping counter: 1 out of 5\n",
      "Epoch : 37/200, Training Loss = 0.003877, Validation Loss = 0.004874\n",
      "EarlyStopping counter: 2 out of 5\n",
      "Epoch : 38/200, Training Loss = 0.003801, Validation Loss = 0.004605\n",
      "Validation loss decreased (0.004835 --> 0.004605).  Saving model ...\n",
      "Epoch : 39/200, Training Loss = 0.003722, Validation Loss = 0.004933\n",
      "EarlyStopping counter: 1 out of 5\n",
      "Epoch : 40/200, Training Loss = 0.003641, Validation Loss = 0.004678\n",
      "EarlyStopping counter: 2 out of 5\n",
      "Epoch : 41/200, Training Loss = 0.003625, Validation Loss = 0.004664\n",
      "EarlyStopping counter: 3 out of 5\n",
      "Epoch : 42/200, Training Loss = 0.003520, Validation Loss = 0.004471\n",
      "Validation loss decreased (0.004605 --> 0.004471).  Saving model ...\n",
      "Epoch : 43/200, Training Loss = 0.003461, Validation Loss = 0.004387\n",
      "Validation loss decreased (0.004471 --> 0.004387).  Saving model ...\n",
      "Epoch : 44/200, Training Loss = 0.003435, Validation Loss = 0.004372\n",
      "Validation loss decreased (0.004387 --> 0.004372).  Saving model ...\n",
      "Epoch : 45/200, Training Loss = 0.003299, Validation Loss = 0.004075\n",
      "Validation loss decreased (0.004372 --> 0.004075).  Saving model ...\n",
      "Epoch : 46/200, Training Loss = 0.003279, Validation Loss = 0.004665\n",
      "EarlyStopping counter: 1 out of 5\n",
      "Epoch : 47/200, Training Loss = 0.003247, Validation Loss = 0.004177\n",
      "EarlyStopping counter: 2 out of 5\n",
      "Epoch : 48/200, Training Loss = 0.003114, Validation Loss = 0.003911\n",
      "Validation loss decreased (0.004075 --> 0.003911).  Saving model ...\n",
      "Epoch : 49/200, Training Loss = 0.003048, Validation Loss = 0.004085\n",
      "EarlyStopping counter: 1 out of 5\n",
      "Epoch : 50/200, Training Loss = 0.003012, Validation Loss = 0.003904\n",
      "Validation loss decreased (0.003911 --> 0.003904).  Saving model ...\n",
      "Epoch : 51/200, Training Loss = 0.002894, Validation Loss = 0.003942\n",
      "EarlyStopping counter: 1 out of 5\n",
      "Epoch : 52/200, Training Loss = 0.002894, Validation Loss = 0.003929\n",
      "EarlyStopping counter: 2 out of 5\n",
      "Epoch : 53/200, Training Loss = 0.002833, Validation Loss = 0.004000\n",
      "EarlyStopping counter: 3 out of 5\n",
      "Epoch : 54/200, Training Loss = 0.002784, Validation Loss = 0.003583\n",
      "Validation loss decreased (0.003904 --> 0.003583).  Saving model ...\n",
      "Epoch : 55/200, Training Loss = 0.002707, Validation Loss = 0.003575\n",
      "Validation loss decreased (0.003583 --> 0.003575).  Saving model ...\n",
      "Epoch : 56/200, Training Loss = 0.002714, Validation Loss = 0.003687\n",
      "EarlyStopping counter: 1 out of 5\n",
      "Epoch : 57/200, Training Loss = 0.002624, Validation Loss = 0.003368\n",
      "Validation loss decreased (0.003575 --> 0.003368).  Saving model ...\n",
      "Epoch : 58/200, Training Loss = 0.002664, Validation Loss = 0.003424\n",
      "EarlyStopping counter: 1 out of 5\n",
      "Epoch : 59/200, Training Loss = 0.002559, Validation Loss = 0.003444\n",
      "EarlyStopping counter: 2 out of 5\n",
      "Epoch : 60/200, Training Loss = 0.002523, Validation Loss = 0.003244\n",
      "Validation loss decreased (0.003368 --> 0.003244).  Saving model ...\n",
      "Epoch : 61/200, Training Loss = 0.002551, Validation Loss = 0.003220\n",
      "Validation loss decreased (0.003244 --> 0.003220).  Saving model ...\n",
      "Epoch : 62/200, Training Loss = 0.002531, Validation Loss = 0.003556\n",
      "EarlyStopping counter: 1 out of 5\n",
      "Epoch : 63/200, Training Loss = 0.002478, Validation Loss = 0.003376\n",
      "EarlyStopping counter: 2 out of 5\n",
      "Epoch : 64/200, Training Loss = 0.002487, Validation Loss = 0.003292\n",
      "EarlyStopping counter: 3 out of 5\n",
      "Epoch : 65/200, Training Loss = 0.002406, Validation Loss = 0.003418\n",
      "EarlyStopping counter: 4 out of 5\n",
      "Epoch : 66/200, Training Loss = 0.002370, Validation Loss = 0.003154\n",
      "Validation loss decreased (0.003220 --> 0.003154).  Saving model ...\n",
      "Epoch : 67/200, Training Loss = 0.002446, Validation Loss = 0.003194\n",
      "EarlyStopping counter: 1 out of 5\n",
      "Epoch : 68/200, Training Loss = 0.002362, Validation Loss = 0.003323\n",
      "EarlyStopping counter: 2 out of 5\n",
      "Epoch : 69/200, Training Loss = 0.002388, Validation Loss = 0.003129\n",
      "Validation loss decreased (0.003154 --> 0.003129).  Saving model ...\n",
      "Epoch : 70/200, Training Loss = 0.002291, Validation Loss = 0.003107\n",
      "Validation loss decreased (0.003129 --> 0.003107).  Saving model ...\n",
      "Epoch : 71/200, Training Loss = 0.002293, Validation Loss = 0.003353\n",
      "EarlyStopping counter: 1 out of 5\n",
      "Epoch : 72/200, Training Loss = 0.002335, Validation Loss = 0.003021\n",
      "Validation loss decreased (0.003107 --> 0.003021).  Saving model ...\n",
      "Epoch : 73/200, Training Loss = 0.002287, Validation Loss = 0.003216\n",
      "EarlyStopping counter: 1 out of 5\n",
      "Epoch : 74/200, Training Loss = 0.002289, Validation Loss = 0.003206\n",
      "EarlyStopping counter: 2 out of 5\n",
      "Epoch : 75/200, Training Loss = 0.002223, Validation Loss = 0.003295\n",
      "EarlyStopping counter: 3 out of 5\n",
      "Epoch : 76/200, Training Loss = 0.002331, Validation Loss = 0.003124\n",
      "EarlyStopping counter: 4 out of 5\n",
      "Epoch : 77/200, Training Loss = 0.002195, Validation Loss = 0.003132\n",
      "EarlyStopping counter: 5 out of 5\n",
      "Early stopping...\n",
      "Epochs: 77, Training Loss: 0.002194966390765098, Validation Loss: 0.003132178534832882\n"
     ]
    }
   ],
   "source": [
    "# SPARSE AUTOENCODER Execute training & validating\n",
    "lr = 1e-3\n",
    "epochs = 200\n",
    "n_units = 50\n",
    "latent_units = 20\n",
    "is_early_stopping = True\n",
    "# early stopping patience; how long to wait after last time validation loss improved.\n",
    "patience = 5\n",
    "\n",
    "is_sparse = True\n",
    "beta = 2\n",
    "rho = 0.05\n",
    "rho_tensor = torch.FloatTensor([rho for _ in range(latent_units)]).unsqueeze(0)\n",
    "rho_tensor = rho_tensor.to(device)\n",
    "\n",
    "sparse_model = SparseAutoEncoder(input_shape=n_features,\n",
    "                    n_units=n_units,\n",
    "                    latent_units=latent_units\n",
    "                   ).to(device)\n",
    "\n",
    "avg_values = []\n",
    "sparse_model, avg_train_loss, avg_val_loss, opt_epochs = train_validate(model=sparse_model,\n",
    "                                                    epochs=epochs,\n",
    "                                                    lr=lr,\n",
    "                                                    is_early_stopping=is_early_stopping, \n",
    "                                                    is_pca=is_pca,\n",
    "                                                    is_sparse=is_sparse,\n",
    "                                                    patience=patience,\n",
    "                                                    beta=beta,\n",
    "                                                    rho=rho_tensor)"
   ]
  },
  {
   "cell_type": "code",
   "execution_count": null,
   "id": "2dd8f6fc-ac70-4663-b8d6-7699cd49e223",
   "metadata": {},
   "outputs": [],
   "source": [
    "avg_weights = []\n",
    "for neuron in sparse_model.state_dict()['bottleneck.0.weight']:\n",
    "    avg = torch.mean(neuron)\n",
    "    avg_weights.append(avg)\n",
    "avg_weights\n",
    "\n",
    "# PATH = './cifar_net.pth'\n",
    "# torch.save(net.state_dict(), PATH)"
   ]
  },
  {
   "cell_type": "code",
   "execution_count": null,
   "id": "9264bdd9-b7ff-44ad-b6e5-5ba3c3f90c3f",
   "metadata": {},
   "outputs": [],
   "source": [
    "sum = 0\n",
    "for i in avg_weights:\n",
    "    sum += i\n",
    "sum"
   ]
  },
  {
   "cell_type": "markdown",
   "id": "bb2ff135-bccb-4e15-938f-98ceaf60be72",
   "metadata": {
    "tags": []
   },
   "source": [
    "## Testing"
   ]
  },
  {
   "cell_type": "code",
   "execution_count": 19,
   "id": "b25a7fcd-6d6b-4233-a89d-a446f57a2bb6",
   "metadata": {},
   "outputs": [],
   "source": [
    "def test(model, n_features):\n",
    "    # Decoupled into three lists due to issue with placing torch tensors into multidimensional lists\n",
    "    batches = []\n",
    "    recons = []\n",
    "    test_losses = []\n",
    "    criterion = nn.BCELoss()\n",
    "\n",
    "    # Prepare model for evaluation\n",
    "    model.eval()\n",
    "\n",
    "    # since we're not training, we don't need to calculate the gradients for our outputs\n",
    "    with torch.no_grad():\n",
    "        for i, batch in enumerate(test_loader, 0):\n",
    "            #batch = batch.view(-1, n_features).to(device)\n",
    "            batch = batch.to(device)\n",
    "            bottleneck, reconstructions = model(batch)\n",
    "            # Reconstruction loss\n",
    "            test_loss = criterion(reconstructions, batch)\n",
    "            # Store samples, predictions, and loss for visualization purposes\n",
    "            batches.append(batch)\n",
    "            recons.append(reconstructions)\n",
    "            test_losses.append(test_loss.item())\n",
    "            print(f'Batch {i}: {test_loss.item()}')\n",
    "\n",
    "    avg_test_loss = np.average(test_losses)\n",
    "    print(f\"Average Test Reconstruction Loss: {avg_test_loss}\")\n",
    "    \n",
    "    return batches, recons, test_losses"
   ]
  },
  {
   "cell_type": "code",
   "execution_count": null,
   "id": "4ebf4ee5-f067-4e22-abd0-43602f25cd88",
   "metadata": {},
   "outputs": [],
   "source": [
    "t1 = torch.tensor(np.array([[[1, 2, 3], [4, 5, 6]], [[7, 8, 9], [10, 11, 12]]]))\n",
    "t2 = t1.view(-1, 6)\n",
    "print(t1.size())\n",
    "print(t2.size())\n",
    "print(t1)\n",
    "print(t2)"
   ]
  },
  {
   "cell_type": "code",
   "execution_count": 20,
   "id": "e14ca1c5-3d5e-4f1f-874b-f586ec9cc44d",
   "metadata": {},
   "outputs": [
    {
     "name": "stdout",
     "output_type": "stream",
     "text": [
      "Batch 0: 0.009264632128179073\n",
      "Batch 1: 0.009027695283293724\n",
      "Batch 2: 0.011478169821202755\n",
      "Batch 3: 0.009944290854036808\n",
      "Batch 4: 0.009928877465426922\n",
      "Batch 5: 0.015186087228357792\n",
      "Batch 6: 0.010248222388327122\n",
      "Batch 7: 0.0097123384475708\n",
      "Batch 8: 0.0122562600299716\n",
      "Batch 9: 0.012277242727577686\n",
      "Batch 10: 0.011190252378582954\n",
      "Batch 11: 0.015765396878123283\n",
      "Batch 12: 0.010712776333093643\n",
      "Batch 13: 0.009428486227989197\n",
      "Batch 14: 0.010405373759567738\n",
      "Batch 15: 0.012427356094121933\n",
      "Batch 16: 0.009974771179258823\n",
      "Batch 17: 0.01160620991140604\n",
      "Batch 18: 0.010054763406515121\n",
      "Batch 19: 0.010156034491956234\n",
      "Batch 20: 0.008843005634844303\n",
      "Batch 21: 0.009226149879395962\n",
      "Batch 22: 0.008921321481466293\n",
      "Batch 23: 0.009444725699722767\n",
      "Batch 24: 0.019819850102066994\n",
      "Batch 25: 0.009245255030691624\n",
      "Batch 26: 0.01133140828460455\n",
      "Batch 27: 0.011385300196707249\n",
      "Batch 28: 0.007388158701360226\n",
      "Batch 29: 0.009530437178909779\n",
      "Batch 30: 0.009663949720561504\n",
      "Batch 31: 0.00928716454654932\n",
      "Batch 32: 0.01123114675283432\n",
      "Batch 33: 0.014859410002827644\n",
      "Batch 34: 0.011858247220516205\n",
      "Batch 35: 0.01577419973909855\n",
      "Batch 36: 0.008798384107649326\n",
      "Batch 37: 0.009833096526563168\n",
      "Batch 38: 0.012321962974965572\n",
      "Batch 39: 0.006804211996495724\n",
      "Batch 40: 0.010641723871231079\n",
      "Batch 41: 0.018008185550570488\n",
      "Batch 42: 0.009380616247653961\n",
      "Batch 43: 0.011387660168111324\n",
      "Batch 44: 0.009794842451810837\n",
      "Batch 45: 0.007560033816844225\n",
      "Batch 46: 0.01414861436933279\n",
      "Average Test Reconstruction Loss: 0.011011368069956277\n"
     ]
    }
   ],
   "source": [
    "batches, recons, test_losses = test(sparse_model, n_features)"
   ]
  },
  {
   "cell_type": "code",
   "execution_count": null,
   "id": "1ac96cd0-4595-40f2-9b59-37ffc74b485a",
   "metadata": {},
   "outputs": [],
   "source": [
    "batches, recons, test_losses = test(basic_model, n_features)"
   ]
  },
  {
   "cell_type": "markdown",
   "id": "08a0797b-b169-4534-a8cb-bf679aad6a30",
   "metadata": {},
   "source": [
    "## Visualization"
   ]
  },
  {
   "cell_type": "code",
   "execution_count": 21,
   "id": "411133d1-7a8f-4acf-9c70-3fb090cef252",
   "metadata": {
    "tags": []
   },
   "outputs": [
    {
     "data": {
      "image/png": "[encoded data removed]",
      "text/plain": [
       "<Figure size 576x576 with 3 Axes>"
      ]
     },
     "metadata": {
      "needs_background": "light"
     },
     "output_type": "display_data"
    },
    {
     "data": {
      "image/png": "[encoded data removed]",
      "text/plain": [
       "<Figure size 576x576 with 3 Axes>"
      ]
     },
     "metadata": {
      "needs_background": "light"
     },
     "output_type": "display_data"
    },
    {
     "data": {
      "image/png": "[encoded data removed]",
      "text/plain": [
       "<Figure size 576x576 with 3 Axes>"
      ]
     },
     "metadata": {
      "needs_background": "light"
     },
     "output_type": "display_data"
    },
    {
     "data": {
      "image/png": "[encoded data removed]",
      "text/plain": [
       "<Figure size 576x576 with 3 Axes>"
      ]
     },
     "metadata": {
      "needs_background": "light"
     },
     "output_type": "display_data"
    },
    {
     "data": {
      "image/png": "[encoded data removed]",
      "text/plain": [
       "<Figure size 576x576 with 3 Axes>"
      ]
     },
     "metadata": {
      "needs_background": "light"
     },
     "output_type": "display_data"
    },
    {
     "data": {
      "image/png": "[encoded data removed]",
      "text/plain": [
       "<Figure size 576x576 with 3 Axes>"
      ]
     },
     "metadata": {
      "needs_background": "light"
     },
     "output_type": "display_data"
    },
    {
     "data": {
      "image/png": "[encoded data removed]",
      "text/plain": [
       "<Figure size 576x576 with 3 Axes>"
      ]
     },
     "metadata": {
      "needs_background": "light"
     },
     "output_type": "display_data"
    },
    {
     "data": {
      "image/png": "[encoded data removed]",
      "text/plain": [
       "<Figure size 576x576 with 3 Axes>"
      ]
     },
     "metadata": {
      "needs_background": "light"
     },
     "output_type": "display_data"
    },
    {
     "data": {
      "image/png": "[encoded data removed]",
      "text/plain": [
       "<Figure size 576x576 with 3 Axes>"
      ]
     },
     "metadata": {
      "needs_background": "light"
     },
     "output_type": "display_data"
    },
    {
     "data": {
      "image/png": "[encoded data removed]",
      "text/plain": [
       "<Figure size 576x576 with 3 Axes>"
      ]
     },
     "metadata": {
      "needs_background": "light"
     },
     "output_type": "display_data"
    },
    {
     "data": {
      "image/png": "[encoded data removed]",
      "text/plain": [
       "<Figure size 576x576 with 3 Axes>"
      ]
     },
     "metadata": {
      "needs_background": "light"
     },
     "output_type": "display_data"
    },
    {
     "data": {
      "image/png": "[encoded data removed]",
      "text/plain": [
       "<Figure size 576x576 with 3 Axes>"
      ]
     },
     "metadata": {
      "needs_background": "light"
     },
     "output_type": "display_data"
    },
    {
     "data": {
      "image/png": "[encoded data removed]",
      "text/plain": [
       "<Figure size 576x576 with 3 Axes>"
      ]
     },
     "metadata": {
      "needs_background": "light"
     },
     "output_type": "display_data"
    },
    {
     "name": "stderr",
     "output_type": "stream",
     "text": [
      "\n",
      "KeyboardInterrupt\n",
      "\n"
     ]
    },
    {
     "data": {
      "text/plain": [
       "<Figure size 576x576 with 0 Axes>"
      ]
     },
     "metadata": {},
     "output_type": "display_data"
    }
   ],
   "source": [
    "# Visualization\n",
    "\n",
    "for i in range(len(recons)):\n",
    "    loss = test_losses[i]\n",
    "    batch = batches[i]\n",
    "    reconstructions = recons[i]\n",
    "    # Iterate through all examples in ith batch\n",
    "    for j in range(len(batch)):\n",
    "        # Reshape original example for plotting back into 30x30\n",
    "        # or keep as vector of components if using PCA.\n",
    "        if is_pca:\n",
    "            original = batch[j].reshape(1, n_features)\n",
    "        else:\n",
    "            original = batch[j].reshape(data.shape[1], data.shape[2])\n",
    "        original = original.cpu()\n",
    "        # Reshape reconstructed example for plotting\n",
    "        # or keep as vector of components if using PCA.\n",
    "        if is_pca:\n",
    "            reconstruction = reconstructions[j].reshape(1, n_features)\n",
    "        else:\n",
    "            reconstruction = reconstructions[j].reshape(data.shape[1], data.shape[2])\n",
    "        reconstruction = reconstruction.cpu()\n",
    "        \n",
    "        fig = plt.figure(figsize=(8, 8))\n",
    "        plt.title(\"Batch : {}/{}, Batch Reconstruction Loss = {:.6f}\".format(i+1, len(recons), loss))\n",
    "        plt.axis('off')\n",
    "        # display original\n",
    "        fig.add_subplot(1, 2, 1)\n",
    "        plt.imshow(original)\n",
    "        plt.axis('off')\n",
    "        plt.title(\"original\")\n",
    "        plt.gray()\n",
    "        \n",
    "        # fig.get_xaxis().set_visible(False)\n",
    "        # fig.get_yaxis().set_visible(False)\n",
    "\n",
    "        # display reconstruction\n",
    "        fig.add_subplot(1, 2, 2)\n",
    "        plt.imshow(reconstruction)\n",
    "        plt.axis('off')\n",
    "        plt.title(\"reconstructed\")\n",
    "        plt.gray()\n",
    "        # fig.get_xaxis().set_visible(False)\n",
    "        # fig.get_yaxis().set_visible(False)\n",
    "        plt.show()"
   ]
  }
 ],
 "metadata": {
  "kernelspec": {
   "display_name": "Python [conda env:bigan] *",
   "language": "python",
   "name": "conda-env-bigan-py"
  },
  "language_info": {
   "codemirror_mode": {
    "name": "ipython",
    "version": 3
   },
   "file_extension": ".py",
   "mimetype": "text/x-python",
   "name": "python",
   "nbconvert_exporter": "python",
   "pygments_lexer": "ipython3",
   "version": "3.8.13"
  }
 },
 "nbformat": 4,
 "nbformat_minor": 5
}
