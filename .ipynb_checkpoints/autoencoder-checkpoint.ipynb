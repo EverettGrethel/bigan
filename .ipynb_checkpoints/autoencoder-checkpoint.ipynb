{
 "cells": [
  {
   "cell_type": "code",
   "execution_count": null,
   "id": "9c44b4cc",
   "metadata": {},
   "outputs": [],
   "source": [
    "import torch\n",
    "import torchvision\n",
    "from torch.utils.data import Dataset, DataLoader\n",
    "from torchvision import datasets, models, transforms\n",
    "import torch.nn as nn\n",
    "import torch.optim as optim\n",
    "import matplotlib.pyplot as plt"
   ]
  },
  {
   "cell_type": "code",
   "execution_count": 4,
   "id": "b312d5f5-0139-4984-9c8f-f44037efeb6d",
   "metadata": {},
   "outputs": [],
   "source": [
    "batch_size = 128\n",
    "hidden_size = 128\n",
    "# 28x28 = 784\n",
    "input_shape = 784\n",
    "lr = 1e-3"
   ]
  },
  {
   "cell_type": "code",
   "execution_count": 2,
   "id": "70724590",
   "metadata": {
    "tags": []
   },
   "outputs": [],
   "source": [
    "class AutoEncoder(nn.Module):\n",
    "    def __init__(self, **kwargs):\n",
    "        super().__init__()\n",
    "        # Initiate a linear function theta*x + b\n",
    "        self.hidden_size = kwargs[\"hidden_size\"]\n",
    "        self.input_shape = kwargs[\"input_shape\"]\n",
    "        self.encoder = torch.nn.Sequential(\n",
    "            nn.Linear(in_features=self.input_shape, out_features=self.hidden_size),\n",
    "            torch.nn.ReLU(),\n",
    "            nn.Linear(in_features=self.hidden_size, out_features=64),\n",
    "            torch.nn.ReLU(),\n",
    "            nn.Linear(in_features=64, out_features=32),\n",
    "        )\n",
    "        self.decoder = torch.nn.Sequential(\n",
    "            nn.Linear(in_features=32, out_features=64),\n",
    "            torch.nn.ReLU(),\n",
    "            nn.Linear(in_features=64, out_features=self.hidden_size),\n",
    "            torch.nn.ReLU(),\n",
    "            nn.Linear(in_features=self.hidden_size, out_features=self.input_shape),\n",
    "            torch.nn.ReLU()\n",
    "        )\n",
    "    \n",
    "    # x denotes features\n",
    "    def forward(self, x):\n",
    "        encode = self.encoder(x)\n",
    "        decode = self.decoder(encode)\n",
    "        return decode"
   ]
  },
  {
   "cell_type": "code",
   "execution_count": 5,
   "id": "334f2751",
   "metadata": {},
   "outputs": [],
   "source": [
    "# Use gpu if available\n",
    "device = torch.device(\"cuda\" if torch.cuda.is_available() else \"cpu\")\n",
    "\n",
    "# Define model\n",
    "model = AutoEncoder(input_shape=input_shape, hidden_size=hidden_size).to(device)\n",
    "\n",
    "# Define Adam optimizer\n",
    "optimizer = optim.Adam(model.parameters(), lr=lr)\n",
    "\n",
    "# Mean-squared error loss\n",
    "criterion = nn.MSELoss()"
   ]
  },
  {
   "cell_type": "code",
   "execution_count": 6,
   "id": "f43042c3",
   "metadata": {
    "tags": []
   },
   "outputs": [],
   "source": [
    "# Convert numpy array to tensor\n",
    "transform = torchvision.transforms.Compose([torchvision.transforms.ToTensor()])\n",
    "\n",
    "# Define \n",
    "train = torchvision.datasets.MNIST(\n",
    "    root=\"~/torch_datasets\", train=True, transform=transform, download=True\n",
    ")\n",
    "\n",
    "test = torchvision.datasets.MNIST(\n",
    "    root=\"~/torch_datasets\", train=False, transform=transform, download=True\n",
    ")\n",
    "\n",
    "train_loader = torch.utils.data.DataLoader(\n",
    "    train, batch_size=batch_size, shuffle=True, num_workers=4, pin_memory=True\n",
    ")\n",
    "\n",
    "test_loader = torch.utils.data.DataLoader(\n",
    "    test, batch_size=batch_size, shuffle=False, num_workers=4\n",
    ")"
   ]
  },
  {
   "cell_type": "code",
   "execution_count": 7,
   "id": "e006349d",
   "metadata": {
    "tags": []
   },
   "outputs": [
    {
     "name": "stdout",
     "output_type": "stream",
     "text": [
      "epoch : 1/5, loss = 0.045083\n",
      "epoch : 2/5, loss = 0.028163\n",
      "epoch : 3/5, loss = 0.024470\n",
      "epoch : 4/5, loss = 0.022572\n",
      "epoch : 5/5, loss = 0.021414\n"
     ]
    }
   ],
   "source": [
    "# Training\n",
    "\n",
    "epochs=5\n",
    "for epoch in range(epochs):\n",
    "    loss = 0\n",
    "    for i, batch in enumerate(train_loader, 0):\n",
    "        # batch is a list of [features, labels]\n",
    "        batch_features = batch[0]\n",
    "        # reshape mini-batch data to [N, 784] matrix\n",
    "        # load it to the active device\n",
    "        batch_features = batch_features.view(-1, 784).to(device)\n",
    "        \n",
    "        # reset the gradients back to zero\n",
    "        # PyTorch accumulates gradients on subsequent backward passes\n",
    "        optimizer.zero_grad()\n",
    "        \n",
    "        # compute reconstructions\n",
    "        outputs = model(batch_features)\n",
    "        \n",
    "        # compute training reconstruction loss\n",
    "        train_loss = criterion(outputs, batch_features)\n",
    "        \n",
    "        # compute accumulated gradients\n",
    "        train_loss.backward()\n",
    "        \n",
    "        # perform parameter update based on current gradients\n",
    "        optimizer.step()\n",
    "        \n",
    "        # add the mini-batch training loss to epoch loss\n",
    "        loss += train_loss.item()\n",
    "    \n",
    "    # compute the epoch training loss\n",
    "    loss = loss / len(train_loader)\n",
    "    \n",
    "    # display the epoch training loss\n",
    "    print(\"epoch : {}/{}, loss = {:.6f}\".format(epoch + 1, epochs, loss))"
   ]
  },
  {
   "cell_type": "code",
   "execution_count": 7,
   "id": "2dd8f6fc-ac70-4663-b8d6-7699cd49e223",
   "metadata": {},
   "outputs": [],
   "source": [
    "# PATH = './cifar_net.pth'\n",
    "# torch.save(net.state_dict(), PATH)"
   ]
  },
  {
   "cell_type": "code",
   "execution_count": null,
   "id": "abe1f245-02ab-4956-86ad-913ebcaec715",
   "metadata": {},
   "outputs": [],
   "source": [
    "# Testing\n",
    "\n",
    "comparisons = []\n",
    "# since we're not training, we don't need to calculate the gradients for our outputs\n",
    "with torch.no_grad():\n",
    "    for batch in test_loader:\n",
    "        batch_features = batch[0]\n",
    "        batch_features = batch_features.view(-1, 784).to(device)\n",
    "\n",
    "        reconstructions = model(batch_features)\n",
    "        # Reconstruction loss\n",
    "        test_loss = criterion(reconstructions, batch_features)\n",
    "        comparisons.append([test_loss, batch_features, reconstructions])\n",
    "\n",
    "print(len(comparisons))\n",
    "\n",
    "for i, batch in enumerate(comparisons):\n",
    "    print(\"batch \", i)\n",
    "    loss = batch[0]\n",
    "    batch_features = batch[1]\n",
    "    reconstructions = batch[2]\n",
    "    # Iterate through all examples in ith batch\n",
    "    for j in range(len(batch_features)):\n",
    "        # Reshape original example for plotting\n",
    "        original = batch_features[j].reshape(28, 28)\n",
    "        original = original.cpu()\n",
    "        # Reshape reconstructed example for plotting\n",
    "        reconstruction = reconstructions[j].reshape(28, 28)\n",
    "        reconstruction = reconstruction.cpu()\n",
    "        \n",
    "        fig = plt.figure(figsize=(8, 8))\n",
    "        fig.title(\"batch : {}/{}, reconstruction loss = {:.6f}\".format(i, len(comparisons), loss))\n",
    "        # display original\n",
    "        fig.add_subplot(1, 2, 1)\n",
    "        plt.imshow(original)\n",
    "        plt.title(\"original\")\n",
    "        plt.gray()\n",
    "        fig.get_xaxis().set_visible(False)\n",
    "        fig.get_yaxis().set_visible(False)\n",
    "\n",
    "        # display reconstruction\n",
    "        fig.add_subplot(1, 2, 2)\n",
    "        plt.imshow(reconstruction)\n",
    "        plt.title(\"reconstructed\")\n",
    "        plt.gray()\n",
    "        fig.get_xaxis().set_visible(False)\n",
    "        fig.get_yaxis().set_visible(False)\n",
    "        plt.show()\n",
    "        \n",
    "        # w = 10\n",
    "        # h = 10\n",
    "        # fig = plt.figure(figsize=(8, 8))\n",
    "        # columns = 4\n",
    "        # rows = 5\n",
    "        # for i in range(1, columns*rows +1):\n",
    "        #     img = np.random.randint(10, size=(h,w))\n",
    "        #     fig.add_subplot(rows, columns, i)\n",
    "        #     plt.imshow(img)\n",
    "        # plt.show()"
   ]
  }
 ],
 "metadata": {
  "kernelspec": {
   "display_name": "Python [conda env:bigan] *",
   "language": "python",
   "name": "conda-env-bigan-py"
  },
  "language_info": {
   "codemirror_mode": {
    "name": "ipython",
    "version": 3
   },
   "file_extension": ".py",
   "mimetype": "text/x-python",
   "name": "python",
   "nbconvert_exporter": "python",
   "pygments_lexer": "ipython3",
   "version": "3.8.13"
  }
 },
 "nbformat": 4,
 "nbformat_minor": 5
}
